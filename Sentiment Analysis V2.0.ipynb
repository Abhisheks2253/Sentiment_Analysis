{
 "cells": [
  {
   "cell_type": "markdown",
   "metadata": {},
   "source": [
    "### NLP REFERENCE: \n",
    "#### https://towardsdatascience.com/text-cleaning-methods-for-natural-language-processing-f2fc1796e8c7"
   ]
  },
  {
   "cell_type": "code",
   "execution_count": 1,
   "metadata": {},
   "outputs": [],
   "source": [
    "import json\n",
    "import tweepy\n",
    "import csv\n",
    "import re\n",
    "import pandas as pd\n",
    "import numpy as np\n",
    "from textblob import TextBlob\n",
    "from wordcloud import WordCloud\n",
    "import seaborn as sns\n",
    "import matplotlib.pyplot as plt\n",
    "plt.style.use('fivethirtyeight')"
   ]
  },
  {
   "cell_type": "code",
   "execution_count": 2,
   "metadata": {},
   "outputs": [
    {
     "name": "stdout",
     "output_type": "stream",
     "text": [
      "/Users/abhishekshirsat/Desktop\n"
     ]
    }
   ],
   "source": [
    "cd /Users/abhishekshirsat/Desktop"
   ]
  },
  {
   "cell_type": "code",
   "execution_count": 3,
   "metadata": {},
   "outputs": [],
   "source": [
    "log = pd.read_csv('Twitter_API_keys.csv')"
   ]
  },
  {
   "cell_type": "code",
   "execution_count": 4,
   "metadata": {},
   "outputs": [],
   "source": [
    "mykey = log['Key'][0]\n",
    "mysecret = log['Key'][1]\n",
    "access_token = log['Key'][2]\n",
    "access_token_Secret = log['Key'][3]"
   ]
  },
  {
   "cell_type": "code",
   "execution_count": 5,
   "metadata": {},
   "outputs": [],
   "source": [
    "# Create authentication object\n",
    "authenticate = tweepy.OAuthHandler(mykey, mysecret)\n",
    "\n",
    "# Create access object\n",
    "authenticate.set_access_token(access_token, access_token_Secret)\n",
    "\n",
    "# Create API object\n",
    "api = tweepy.API(authenticate, wait_on_rate_limit = True)"
   ]
  },
  {
   "cell_type": "markdown",
   "metadata": {},
   "source": [
    "### Function to extract Tweets using Keyword / Phrase - tweepy.Cursor method - api.search (text_query) "
   ]
  },
  {
   "cell_type": "code",
   "execution_count": 12,
   "metadata": {},
   "outputs": [],
   "source": [
    "def get_related_tweets(text_query):\n",
    "    twitter_users = []\n",
    "    tweet_time = []\n",
    "    tweet_string = [] \n",
    "    for tweet in tweepy.Cursor(api.search,q=text_query, count=1000).items(1000):\n",
    "            if (not tweet.retweeted) and ('RT @' not in tweet.text):\n",
    "                if tweet.lang == \"en\":\n",
    "                    twitter_users.append(tweet.user.name)\n",
    "                    tweet_time.append(tweet.created_at)\n",
    "                    tweet_string.append(tweet.text)\n",
    "                    #print([tweet.user.name,tweet.created_at,tweet.text])\n",
    "    df = pd.DataFrame({'name':twitter_users, 'time': tweet_time, 'tweet': tweet_string})\n",
    "    \n",
    "    return df "
   ]
  },
  {
   "cell_type": "code",
   "execution_count": 13,
   "metadata": {},
   "outputs": [
    {
     "data": {
      "text/html": [
       "<div>\n",
       "<style scoped>\n",
       "    .dataframe tbody tr th:only-of-type {\n",
       "        vertical-align: middle;\n",
       "    }\n",
       "\n",
       "    .dataframe tbody tr th {\n",
       "        vertical-align: top;\n",
       "    }\n",
       "\n",
       "    .dataframe thead th {\n",
       "        text-align: right;\n",
       "    }\n",
       "</style>\n",
       "<table border=\"1\" class=\"dataframe\">\n",
       "  <thead>\n",
       "    <tr style=\"text-align: right;\">\n",
       "      <th></th>\n",
       "      <th>name</th>\n",
       "      <th>time</th>\n",
       "      <th>tweet</th>\n",
       "    </tr>\n",
       "  </thead>\n",
       "  <tbody>\n",
       "    <tr>\n",
       "      <td>0</td>\n",
       "      <td>Carlos Martín</td>\n",
       "      <td>2020-11-02 20:14:40</td>\n",
       "      <td>The effects of disasters on people's budgets, ...</td>\n",
       "    </tr>\n",
       "    <tr>\n",
       "      <td>1</td>\n",
       "      <td>Lauren Anderson</td>\n",
       "      <td>2020-11-02 20:07:19</td>\n",
       "      <td>\"For decades, Oregon’s timber industry has pro...</td>\n",
       "    </tr>\n",
       "    <tr>\n",
       "      <td>2</td>\n",
       "      <td>EDF Growing Returns</td>\n",
       "      <td>2020-11-02 20:05:10</td>\n",
       "      <td>Powerful new web app will make critical water ...</td>\n",
       "    </tr>\n",
       "    <tr>\n",
       "      <td>3</td>\n",
       "      <td>Western Priorities</td>\n",
       "      <td>2020-11-02 20:02:00</td>\n",
       "      <td>“Fire season is not over in northern Colorado....</td>\n",
       "    </tr>\n",
       "    <tr>\n",
       "      <td>4</td>\n",
       "      <td>Life From The Ashes</td>\n",
       "      <td>2020-11-02 20:00:14</td>\n",
       "      <td>Did You Know More than 4 Million Acres Have Be...</td>\n",
       "    </tr>\n",
       "    <tr>\n",
       "      <td>...</td>\n",
       "      <td>...</td>\n",
       "      <td>...</td>\n",
       "      <td>...</td>\n",
       "    </tr>\n",
       "    <tr>\n",
       "      <td>390</td>\n",
       "      <td>The Circle Up Experience</td>\n",
       "      <td>2020-10-31 19:14:34</td>\n",
       "      <td>What is it about the stories of people helping...</td>\n",
       "    </tr>\n",
       "    <tr>\n",
       "      <td>391</td>\n",
       "      <td>Shehzad Younis</td>\n",
       "      <td>2020-10-31 19:08:24</td>\n",
       "      <td>What Happens to Voting When There’s a Natural ...</td>\n",
       "    </tr>\n",
       "    <tr>\n",
       "      <td>392</td>\n",
       "      <td>NatureConservancy WA</td>\n",
       "      <td>2020-10-31 19:07:11</td>\n",
       "      <td>How many “once-in-a-lifetime” natural disaster...</td>\n",
       "    </tr>\n",
       "    <tr>\n",
       "      <td>393</td>\n",
       "      <td>Zusia:Dr Jackie Volk</td>\n",
       "      <td>2020-10-31 19:00:33</td>\n",
       "      <td>National Interagency Coordination Center and F...</td>\n",
       "    </tr>\n",
       "    <tr>\n",
       "      <td>394</td>\n",
       "      <td>sierra kate deciduous</td>\n",
       "      <td>2020-10-31 18:47:34</td>\n",
       "      <td>@book_eagle @iSnortArsenic But that was Sunday...</td>\n",
       "    </tr>\n",
       "  </tbody>\n",
       "</table>\n",
       "<p>395 rows × 3 columns</p>\n",
       "</div>"
      ],
      "text/plain": [
       "                         name                time  \\\n",
       "0               Carlos Martín 2020-11-02 20:14:40   \n",
       "1             Lauren Anderson 2020-11-02 20:07:19   \n",
       "2         EDF Growing Returns 2020-11-02 20:05:10   \n",
       "3          Western Priorities 2020-11-02 20:02:00   \n",
       "4         Life From The Ashes 2020-11-02 20:00:14   \n",
       "..                        ...                 ...   \n",
       "390  The Circle Up Experience 2020-10-31 19:14:34   \n",
       "391            Shehzad Younis 2020-10-31 19:08:24   \n",
       "392      NatureConservancy WA 2020-10-31 19:07:11   \n",
       "393      Zusia:Dr Jackie Volk 2020-10-31 19:00:33   \n",
       "394     sierra kate deciduous 2020-10-31 18:47:34   \n",
       "\n",
       "                                                 tweet  \n",
       "0    The effects of disasters on people's budgets, ...  \n",
       "1    \"For decades, Oregon’s timber industry has pro...  \n",
       "2    Powerful new web app will make critical water ...  \n",
       "3    “Fire season is not over in northern Colorado....  \n",
       "4    Did You Know More than 4 Million Acres Have Be...  \n",
       "..                                                 ...  \n",
       "390  What is it about the stories of people helping...  \n",
       "391  What Happens to Voting When There’s a Natural ...  \n",
       "392  How many “once-in-a-lifetime” natural disaster...  \n",
       "393  National Interagency Coordination Center and F...  \n",
       "394  @book_eagle @iSnortArsenic But that was Sunday...  \n",
       "\n",
       "[395 rows x 3 columns]"
      ]
     },
     "execution_count": 13,
     "metadata": {},
     "output_type": "execute_result"
    }
   ],
   "source": [
    "get_related_tweets('Wildfires 2020')"
   ]
  },
  {
   "cell_type": "markdown",
   "metadata": {},
   "source": [
    "### Step 1 - Normalization : The below function normalizes the text - i.e removes excessive 'noise' unwanted terms and symbols"
   ]
  },
  {
   "cell_type": "code",
   "execution_count": 15,
   "metadata": {},
   "outputs": [],
   "source": [
    "def  clean_text(df, text_field, new_text_field_name):\n",
    "    df[new_text_field_name] = df[text_field].str.lower()\n",
    "    df[new_text_field_name] = df[new_text_field_name].apply(lambda elem: re.sub(r\"(@[A-Za-z0-9]+)|([^0-9A-Za-z \\t])|(\\w+:\\/\\/\\S+)|^rt|http.+?\", \"\", elem))  \n",
    "    # remove numbers\n",
    "    df[new_text_field_name] = df[new_text_field_name].apply(lambda elem: re.sub(r\"\\d+\", \"\", elem))\n",
    "    \n",
    "    return df"
   ]
  },
  {
   "cell_type": "code",
   "execution_count": 16,
   "metadata": {},
   "outputs": [],
   "source": [
    "import nltk"
   ]
  },
  {
   "cell_type": "markdown",
   "metadata": {},
   "source": [
    "### Step 2  - Removing stop words - The words are do not carry much information and are repeated in the text - USE NLTK library "
   ]
  },
  {
   "cell_type": "code",
   "execution_count": 17,
   "metadata": {},
   "outputs": [
    {
     "name": "stderr",
     "output_type": "stream",
     "text": [
      "[nltk_data] Downloading package stopwords to\n",
      "[nltk_data]     /Users/abhishekshirsat/nltk_data...\n",
      "[nltk_data]   Package stopwords is already up-to-date!\n"
     ]
    }
   ],
   "source": [
    "import nltk.corpus\n",
    "nltk.download('stopwords')\n",
    "from nltk.corpus import stopwords\n",
    "stop = stopwords.words('english')"
   ]
  },
  {
   "cell_type": "markdown",
   "metadata": {},
   "source": [
    "### Stemming - reducing the word count and keeping 1 word for similar meaning words - Not used in the sentiment analysis function"
   ]
  },
  {
   "cell_type": "code",
   "execution_count": 18,
   "metadata": {},
   "outputs": [
    {
     "name": "stderr",
     "output_type": "stream",
     "text": [
      "[nltk_data] Downloading package punkt to\n",
      "[nltk_data]     /Users/abhishekshirsat/nltk_data...\n",
      "[nltk_data]   Package punkt is already up-to-date!\n"
     ]
    }
   ],
   "source": [
    "from nltk.stem import PorterStemmer \n",
    "from nltk.tokenize import sent_tokenize, word_tokenize\n",
    "nltk.download('punkt')\n",
    "\n",
    "def word_stemmer(text):\n",
    "    stem_text = [PorterStemmer().stem(i) for i in text]\n",
    "    return stem_text\n",
    "\n",
    "# We need to create text token first before stemming "
   ]
  },
  {
   "cell_type": "markdown",
   "metadata": {},
   "source": [
    "### Lemmetization - finding the core form of words by first creating text tokens"
   ]
  },
  {
   "cell_type": "code",
   "execution_count": 19,
   "metadata": {},
   "outputs": [
    {
     "name": "stderr",
     "output_type": "stream",
     "text": [
      "[nltk_data] Downloading package wordnet to\n",
      "[nltk_data]     /Users/abhishekshirsat/nltk_data...\n",
      "[nltk_data]   Package wordnet is already up-to-date!\n"
     ]
    }
   ],
   "source": [
    "nltk.download('wordnet')\n",
    "from nltk.stem import WordNetLemmatizer\n",
    "def word_lemmatizer(text):\n",
    "    lem_text = [WordNetLemmatizer().lemmatize(i) for i in text]\n",
    "    return lem_text"
   ]
  },
  {
   "cell_type": "code",
   "execution_count": 20,
   "metadata": {},
   "outputs": [],
   "source": [
    "# Get a word count\n",
    "\n",
    "def word_count(sentence):\n",
    "    return len(sentence.split())"
   ]
  },
  {
   "cell_type": "markdown",
   "metadata": {},
   "source": [
    "### Get Subjectivity, Polarity and the Analysis of the text"
   ]
  },
  {
   "cell_type": "code",
   "execution_count": 21,
   "metadata": {},
   "outputs": [],
   "source": [
    "def getSubjectivity(text):\n",
    "    return TextBlob(text).sentiment.subjectivity\n",
    "\n",
    "def getPolarity(text):\n",
    "    return TextBlob(text).sentiment.polarity\n",
    "\n",
    "def getAnalysis(score):\n",
    "    if score < 0:\n",
    "        return 'Negative'\n",
    "    elif score == 0:\n",
    "        return 'Neutral'\n",
    "    else:\n",
    "        return 'Positive'"
   ]
  },
  {
   "cell_type": "markdown",
   "metadata": {},
   "source": [
    "## Main function to\n",
    "### 1. Extract the tweet using user input text query\n",
    "### 2. Text cleaning using NLTK - Steps 1, 2 (3, 4 are optional and used to get max. used words count)\n",
    "### 3. Plot the Subjectivity VS Polarity of tweets and \n",
    "### 4. Get Tweet counts - based on sentiment"
   ]
  },
  {
   "cell_type": "code",
   "execution_count": 36,
   "metadata": {},
   "outputs": [],
   "source": [
    "def get_sentiment(text_query):\n",
    "    df = get_related_tweets(text_query)\n",
    "    df_clean = clean_text(df, 'tweet', 'clean_tweet')\n",
    "    df_clean['clean_tweet'] = df_clean['clean_tweet'].apply(lambda x: ' '.join([word for word in x.split() if word not in (stop)]))\n",
    "    df_clean['sentiment'] = df_clean['clean_tweet'].apply(lambda tweet: TextBlob(tweet).sentiment.polarity)\n",
    "    df_clean['Subjectivity'] = df_clean['clean_tweet'].apply(getSubjectivity)\n",
    "    df_clean['Polarity'] = df_clean['clean_tweet'].apply(getPolarity)\n",
    "    df_clean['Analysis'] = df_clean['Polarity'].apply(getAnalysis)\n",
    "    df_clean['word count'] = df_clean['clean_tweet'].apply(word_count)\n",
    "    df_clean['text_tokens'] = df_clean['clean_tweet'].apply(lambda x: word_tokenize(x))\n",
    "    df_clean['text_tokens_stem'] = df_clean['text_tokens'].apply(lambda x: word_stemmer(x))\n",
    "    df_clean['text_tokens_lemma'] = df_clean['text_tokens'].apply(lambda x: word_lemmatizer(x))\n",
    "    fig = plt.figure(figsize = (16, 7), )\n",
    "    ax0 = fig.add_subplot(1, 2, 1) \n",
    "    ax1 = fig.add_subplot(1, 2, 2)\n",
    "    df_clean.plot(kind='scatter', x='Polarity', y='Subjectivity', color = 'blue', ax=ax0)\n",
    "    df_clean['Analysis'].value_counts().plot(kind = 'barh', color = 'blue', ax = ax1)\n",
    "    ax0.set_xlabel('Polarity', fontsize = 14)\n",
    "    ax0.set_ylabel('Subjectivity', fontsize = 14)\n",
    "    ax1.set_xlabel('Count of tweets', fontsize = 14)\n",
    "    ax1.set_ylabel('Tweet Sentiment', fontsize = 14)\n",
    "    fig.suptitle('Sentiment Analysis', fontsize=16)\n",
    "    plt.savefig('Sentiment_nltk.png')"
   ]
  },
  {
   "cell_type": "code",
   "execution_count": 39,
   "metadata": {},
   "outputs": [
    {
     "data": {
      "image/png": "[encoded data removed]",
      "text/plain": [
       "<Figure size 1152x504 with 2 Axes>"
      ]
     },
     "metadata": {
      "needs_background": "light"
     },
     "output_type": "display_data"
    }
   ],
   "source": [
    "get_sentiment('Shawshank Redemption')"
   ]
  },
  {
   "cell_type": "code",
   "execution_count": null,
   "metadata": {},
   "outputs": [],
   "source": []
  }
 ],
 "metadata": {
  "kernelspec": {
   "display_name": "Python 3",
   "language": "python",
   "name": "python3"
  },
  "language_info": {
   "codemirror_mode": {
    "name": "ipython",
    "version": 3
   },
   "file_extension": ".py",
   "mimetype": "text/x-python",
   "name": "python",
   "nbconvert_exporter": "python",
   "pygments_lexer": "ipython3",
   "version": "3.7.4"
  }
 },
 "nbformat": 4,
 "nbformat_minor": 2
}
