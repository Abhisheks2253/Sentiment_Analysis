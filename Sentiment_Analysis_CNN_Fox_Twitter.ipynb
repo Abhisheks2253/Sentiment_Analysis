{
 "cells": [
  {
   "cell_type": "markdown",
   "metadata": {},
   "source": [
    "## Sentiment Analysis - News Channels (CNN, Fox)"
   ]
  },
  {
   "cell_type": "code",
   "execution_count": 1,
   "metadata": {},
   "outputs": [],
   "source": [
    "# Import relevant libraries\n",
    "\n",
    "import json\n",
    "import tweepy\n",
    "import csv\n",
    "import re\n",
    "import pandas as pd\n",
    "import numpy as np\n",
    "from textblob import TextBlob\n",
    "from wordcloud import WordCloud\n",
    "\n",
    "import matplotlib.pyplot as plt\n",
    "plt.style.use('fivethirtyeight')"
   ]
  },
  {
   "cell_type": "code",
   "execution_count": 4,
   "metadata": {},
   "outputs": [
    {
     "name": "stdout",
     "output_type": "stream",
     "text": [
      "/Users/abhishekshirsat/Desktop\n"
     ]
    }
   ],
   "source": [
    "cd /Users/abhishekshirsat/Desktop"
   ]
  },
  {
   "cell_type": "code",
   "execution_count": 5,
   "metadata": {},
   "outputs": [],
   "source": [
    "#Load the API keys from csv and save in variables\n",
    "\n",
    "log = pd.read_csv('Twitter_API_keys.csv')"
   ]
  },
  {
   "cell_type": "code",
   "execution_count": 6,
   "metadata": {},
   "outputs": [],
   "source": [
    "mykey = log['Key'][0]\n",
    "mysecret = log['Key'][1]\n",
    "access_token = log['Key'][2]\n",
    "access_token_Secret = log['Key'][3]"
   ]
  },
  {
   "cell_type": "code",
   "execution_count": 7,
   "metadata": {},
   "outputs": [],
   "source": [
    "# Create authentication object\n",
    "authenticate = tweepy.OAuthHandler(mykey, mysecret)\n",
    "\n",
    "# Create access object\n",
    "authenticate.set_access_token(access_token, access_token_Secret)\n",
    "\n",
    "# Create API object\n",
    "api = tweepy.API(authenticate, wait_on_rate_limit = True)"
   ]
  },
  {
   "cell_type": "code",
   "execution_count": 8,
   "metadata": {},
   "outputs": [],
   "source": [
    "# Extract tweets using username\n",
    "\n",
    "tweet_post_CNN = api.user_timeline(screen_name = 'CNN', count = 250, lang = 'en', tweet_mode = 'extended')"
   ]
  },
  {
   "cell_type": "code",
   "execution_count": 9,
   "metadata": {},
   "outputs": [],
   "source": [
    "tweet_post_Fox = api.user_timeline(screen_name = 'FoxNews', count = 250, lang = 'en', tweet_mode = 'extended')"
   ]
  },
  {
   "cell_type": "code",
   "execution_count": 10,
   "metadata": {},
   "outputs": [],
   "source": [
    "# for tweet in tweet_post_CNN[0:5]:\n",
    "#     print(tweet.full_text + '\\n')"
   ]
  },
  {
   "cell_type": "code",
   "execution_count": 11,
   "metadata": {},
   "outputs": [],
   "source": [
    "# for tweet in tweet_post_Fox[0:5]:\n",
    "#     print(tweet.full_text + '\\n')"
   ]
  },
  {
   "cell_type": "code",
   "execution_count": 12,
   "metadata": {},
   "outputs": [],
   "source": [
    "df_tweets_CNN = pd.DataFrame([tweet.full_text for tweet in tweet_post_CNN], columns = ['Tweets'])"
   ]
  },
  {
   "cell_type": "code",
   "execution_count": 13,
   "metadata": {},
   "outputs": [],
   "source": [
    "df_tweets_Fox = pd.DataFrame([tweet.full_text for tweet in tweet_post_Fox], columns = ['Tweets'])"
   ]
  },
  {
   "cell_type": "code",
   "execution_count": 14,
   "metadata": {},
   "outputs": [],
   "source": [
    "# df_tweets_Fox.head(5)"
   ]
  },
  {
   "cell_type": "code",
   "execution_count": 15,
   "metadata": {},
   "outputs": [],
   "source": [
    "df_tweets_Fox1 = df_tweets_Fox.copy()  #checkpoint"
   ]
  },
  {
   "cell_type": "code",
   "execution_count": 16,
   "metadata": {},
   "outputs": [],
   "source": [
    "df_tweets_CNN1 = df_tweets_CNN.copy()  #checkpoint"
   ]
  },
  {
   "cell_type": "code",
   "execution_count": 17,
   "metadata": {},
   "outputs": [],
   "source": [
    "# Function to clean the text   \n",
    "#https://towardsdatascience.com/another-twitter-sentiment-analysis-bb5b01ebad90\n",
    "\n",
    "import re\n",
    "def cleanText(text):\n",
    "    text = re.sub(r'@[A-Za-z0-9]+','', text) #removes @mentions\n",
    "    text = re.sub(\"[^a-zA-Z]\", \" \", text) #removes #\n",
    "    text = re.sub(r'RT[\\s+]', '', text)  #removes RT\n",
    "    text = re.sub('https?://[A-Za-z0-9./]+','', text) # removes url\n",
    "    \n",
    "    return text"
   ]
  },
  {
   "cell_type": "code",
   "execution_count": 18,
   "metadata": {},
   "outputs": [],
   "source": [
    "df_tweets_Fox1['Tweets'] = df_tweets_Fox1['Tweets'].apply(cleanText)"
   ]
  },
  {
   "cell_type": "code",
   "execution_count": 19,
   "metadata": {},
   "outputs": [],
   "source": [
    "df_tweets_CNN1['Tweets'] = df_tweets_CNN1['Tweets'].apply(cleanText)"
   ]
  },
  {
   "cell_type": "code",
   "execution_count": 20,
   "metadata": {},
   "outputs": [],
   "source": [
    "# df_tweets_Fox1.head(5)"
   ]
  },
  {
   "cell_type": "code",
   "execution_count": 21,
   "metadata": {},
   "outputs": [],
   "source": [
    "df_tweets_Fox_clean = df_tweets_Fox1.copy()"
   ]
  },
  {
   "cell_type": "code",
   "execution_count": 22,
   "metadata": {},
   "outputs": [],
   "source": [
    "df_tweets_CNN_clean = df_tweets_CNN1.copy()"
   ]
  },
  {
   "cell_type": "code",
   "execution_count": 23,
   "metadata": {},
   "outputs": [],
   "source": [
    "def getSubjectivity(text):\n",
    "    return TextBlob(text).sentiment.subjectivity\n",
    "\n",
    "def getPolarity(text):\n",
    "    return TextBlob(text).sentiment.polarity"
   ]
  },
  {
   "cell_type": "code",
   "execution_count": 24,
   "metadata": {},
   "outputs": [],
   "source": [
    "df_tweets_Fox_clean['Subjectivity'] = df_tweets_Fox_clean['Tweets'].apply(getSubjectivity)\n",
    "df_tweets_Fox_clean['Polarity'] = df_tweets_Fox_clean['Tweets'].apply(getPolarity)"
   ]
  },
  {
   "cell_type": "code",
   "execution_count": 25,
   "metadata": {},
   "outputs": [],
   "source": [
    "df_tweets_CNN_clean['Subjectivity'] = df_tweets_CNN_clean['Tweets'].apply(getSubjectivity)\n",
    "df_tweets_CNN_clean['Polarity'] = df_tweets_CNN_clean['Tweets'].apply(getPolarity)"
   ]
  },
  {
   "cell_type": "code",
   "execution_count": 26,
   "metadata": {},
   "outputs": [],
   "source": [
    "# df_tweets_Fox_clean.head(10)"
   ]
  },
  {
   "cell_type": "code",
   "execution_count": 27,
   "metadata": {},
   "outputs": [],
   "source": [
    "#Label Positive, negative, neutral based on polarity\n",
    "\n",
    "def getAnalysis(score):\n",
    "    if score < 0:\n",
    "        return 'Negative'\n",
    "    elif score == 0:\n",
    "        return 'Neutral'\n",
    "    else:\n",
    "        return 'Positive'"
   ]
  },
  {
   "cell_type": "code",
   "execution_count": 28,
   "metadata": {},
   "outputs": [],
   "source": [
    "df_tweets_Fox_clean['Analysis'] = df_tweets_Fox_clean['Polarity'].apply(getAnalysis)"
   ]
  },
  {
   "cell_type": "code",
   "execution_count": 29,
   "metadata": {},
   "outputs": [],
   "source": [
    "df_tweets_CNN_clean['Analysis'] = df_tweets_CNN_clean['Polarity'].apply(getAnalysis)"
   ]
  },
  {
   "cell_type": "code",
   "execution_count": 30,
   "metadata": {},
   "outputs": [
    {
     "data": {
      "text/html": [
       "<div>\n",
       "<style scoped>\n",
       "    .dataframe tbody tr th:only-of-type {\n",
       "        vertical-align: middle;\n",
       "    }\n",
       "\n",
       "    .dataframe tbody tr th {\n",
       "        vertical-align: top;\n",
       "    }\n",
       "\n",
       "    .dataframe thead th {\n",
       "        text-align: right;\n",
       "    }\n",
       "</style>\n",
       "<table border=\"1\" class=\"dataframe\">\n",
       "  <thead>\n",
       "    <tr style=\"text-align: right;\">\n",
       "      <th></th>\n",
       "      <th>Tweets</th>\n",
       "      <th>Subjectivity</th>\n",
       "      <th>Polarity</th>\n",
       "      <th>Analysis</th>\n",
       "    </tr>\n",
       "  </thead>\n",
       "  <tbody>\n",
       "    <tr>\n",
       "      <td>0</td>\n",
       "      <td>Interesting moments from Amy Coney Barrett s...</td>\n",
       "      <td>0.500000</td>\n",
       "      <td>0.500000</td>\n",
       "      <td>Positive</td>\n",
       "    </tr>\n",
       "    <tr>\n",
       "      <td>1</td>\n",
       "      <td>BIG TECH BACKLASHPublished    mins ago Twitter...</td>\n",
       "      <td>0.100000</td>\n",
       "      <td>-0.050000</td>\n",
       "      <td>Negative</td>\n",
       "    </tr>\n",
       "    <tr>\n",
       "      <td>2</td>\n",
       "      <td>Sen  John Kennedy  New Hunter Biden report as ...</td>\n",
       "      <td>0.560606</td>\n",
       "      <td>-0.098485</td>\n",
       "      <td>Negative</td>\n",
       "    </tr>\n",
       "    <tr>\n",
       "      <td>3</td>\n",
       "      <td>Trump administration secures release of two Am...</td>\n",
       "      <td>0.000000</td>\n",
       "      <td>0.000000</td>\n",
       "      <td>Neutral</td>\n",
       "    </tr>\n",
       "    <tr>\n",
       "      <td>4</td>\n",
       "      <td>Amy Coney Barrett tells Democratic senator   I...</td>\n",
       "      <td>1.000000</td>\n",
       "      <td>0.600000</td>\n",
       "      <td>Positive</td>\n",
       "    </tr>\n",
       "  </tbody>\n",
       "</table>\n",
       "</div>"
      ],
      "text/plain": [
       "                                              Tweets  Subjectivity  Polarity  \\\n",
       "0    Interesting moments from Amy Coney Barrett s...      0.500000  0.500000   \n",
       "1  BIG TECH BACKLASHPublished    mins ago Twitter...      0.100000 -0.050000   \n",
       "2  Sen  John Kennedy  New Hunter Biden report as ...      0.560606 -0.098485   \n",
       "3  Trump administration secures release of two Am...      0.000000  0.000000   \n",
       "4  Amy Coney Barrett tells Democratic senator   I...      1.000000  0.600000   \n",
       "\n",
       "   Analysis  \n",
       "0  Positive  \n",
       "1  Negative  \n",
       "2  Negative  \n",
       "3   Neutral  \n",
       "4  Positive  "
      ]
     },
     "execution_count": 30,
     "metadata": {},
     "output_type": "execute_result"
    }
   ],
   "source": [
    "df_tweets_Fox_clean.head()"
   ]
  },
  {
   "cell_type": "code",
   "execution_count": 31,
   "metadata": {},
   "outputs": [
    {
     "name": "stdout",
     "output_type": "stream",
     "text": [
      "1)   Interesting moments from Amy Coney Barrett s day three hearings https   t co b cxsOWX Q\n",
      "\n",
      "2) Amy Coney Barrett tells Democratic senator   I hope you aren t suggesting I don t have my own mind  https   t co cexH oV DI\n",
      "\n",
      "3) New polls in key battlegrounds raise concerns for Trump https   t co zfqfjZREjN\n",
      "\n",
      "4)   JUST IN  Facebook reducing distribution of Hunter Biden story in New York Post https   t co   IpNKi WT\n",
      "\n",
      "5) Trump campaign blasts Biden over new Hunter Biden Ukraine story  claims it shows he  lied   https   t co  yvK SRVtN\n",
      "\n",
      "6)   All three major averages move higher on strength of Big Tech  energy https   t co kNtbG lSpw\n",
      "\n",
      "7) Former Idaho gubernatorial candidate indicted in      killing of    year old girl  https   t co KeC NzYD N\n",
      "\n",
      "8) EXCLUSIVE  Kamala Harris dodges questions on court packing  claims Biden  has been very clear   https   t co BL OozaUHP\n",
      "\n",
      "9) Ex Facebook honcho Tim Kendall says Big Tech is a  threat to democracy   calls for social media reform  https   t co BpZeIYq A \n",
      "\n",
      "10) Postal worker in hot water after several bags of undelivered mail set out for trash pickup  https   t co DTpIV Cmxg\n",
      "\n",
      "11) Large piece of metal crashes through Florida driver s windshield   He is lucky to be alive   https   t co  f hoBHXNQ\n",
      "\n",
      "12) Blumenthal incorrectly insists Barrett once called her own gun position  radical  in opinion https   t co Azi KL NfM\n",
      "\n",
      "13) Democratic senator asks Amy Coney Barrett if she has ever sexually assaulted someone https   t co cQVJ  iZ I\n",
      "\n",
      "14) FBI declassifies more documents on Steele dossier  https   t co gBXgNJgpHS\n",
      "\n",
      "15) Barrett cites  Ginsburg Rule  of  no hints  no previews  when pressed by Dems on hot button issues  https   t co DXEzauAtnk\n",
      "\n",
      "16) Obama s attorney general schooled for his definition of  court packing   https   t co CtXjjG GPH\n",
      "\n",
      "17) NASA is getting ready to land on an asteroid that may hold the building blocks of life  https   t co ta   B vWg\n",
      "\n",
      "18) Promoter for Portland s  Day of Rage  wants to  abolish colonial systems   report says  https   t co vAkGCr sis\n",
      "\n",
      "19)   Stock futures are mixed following yesterday s strong gains as investors get set for earnings season to kick off https   t  \n",
      "\n",
      "20)   Trump s performance for the S amp P     and Nasdaq  Election Day      to present  is the best in history under a Republican pr \n",
      "\n",
      "21)  Critics were clearly clueless   Texas Gov  Abbott praises court ruling on mail in ballots  https   t co ll rKqsQnq\n",
      "\n",
      "22) WHO warns against COVID lockdowns because of economic harm  https   t co uEbecoPqkD\n",
      "\n",
      "23) Connecticut woman to be charged after   month old found in dumpster  report  https   t co Gbsb zM CG\n",
      "\n",
      "24) WHO warns against COVID    lockdowns due to economic damage https   t co uEbecoPqkD\n",
      "\n",
      "25) Trump looms large on first day of Barrett hearing as Dems sound alarms over ObamaCare  election  coronavirus  https   t co qCwM yH kx\n",
      "\n",
      "26) Cowboys  Dak Prescott to be released from hospital following successful ankle surgery  https   t co  yjEKeWL W\n",
      "\n",
      "27)   Apollo CEO Leon Black may have funneled as much as    M to Jeffrey Epstein  according to reports https   t co FwwIeBOR i\n",
      "\n",
      "28) Dem hit for claim that  highly successful working mom  may set back women  https   t co tAf rLRSYq https   t co lof kH ERO\n",
      "\n",
      "29) Cuomo reacts to Biden attorney general rumors   No interest in going to Washington   https   t co vGiv DBOQ \n",
      "\n",
      "30) WATCH LIVE  Senators deliver opening statements in high stakes ACB confirmation hearing  https   t co TdKzLqbbx  https   t co WtRX xT  g\n",
      "\n",
      "31) New York City Council candidate arrested in connection to journalist assault  https   t co aBNHWiTvHy\n",
      "\n",
      "32) New details in fatal shooting of veteran involved in clash at Denver  Patriot Rally   https   t co  Ve eHhjdK\n",
      "\n",
      "33) North Korea continues to insist that it remains free of the coronavirus pandemic  even as lockdown measures persist around the country  https   t co DXMHNhoIep\n",
      "\n",
      "34) Democratic nominee Joe Biden said voters don t deserve to know if he would attempt to pack the Supreme Court if he wins in November  https   t co Qzs pww P \n",
      "\n",
      "35) The militia group plotting to kidnap Michigan Gov  Gretchen Whitmer hatched its plan in the basement of a vacuum store in Grand Rapids  according to new reports  https   t co oWoQMYLm e\n",
      "\n",
      "36) Trump says he s  medication free   details COVID    recovery in first on camera interview since diagnosis https   t co JMiqEpxPhT\n",
      "\n",
      "37) Critics skeptical of Steve Scully s  hack  claim compare it to Joy Reid scandal https   t co  dplgK VlJ\n",
      "\n",
      "38) Bob Dole  concerned  debate commission full of never Trumpers https   t co B nIYy f u\n",
      "\n",
      "39) Trump hits back at Pelosi s   th Amendment move  says her real target is  Sleepy Joe   https   t co rQB quWNsP\n",
      "\n",
      "40)   BREAKING  White House says Trump has approved revised coronavirus relief package   wants to do a deal  https   t co trdRLO \n",
      "\n",
      "41)   LIVE UPDATES  Stocks on pace for best week since August https   t co FejNyLKpvc\n",
      "\n",
      "42) Supreme Court blocks federal abortion pill delivery restrictions  first abortion decision since Ginsburg death  https   t co Wrt  fvGP \n",
      "\n",
      "43)   Broadway extends New York theater closures https   t co cQBlMyulXM\n",
      "\n",
      "44) LIVE UPDATES  Hurricane Delta set to make landfall   life threatening  storm surge expected  https   t co YN  rNQcsS\n",
      "\n",
      "45)   JUST IN  US will impose tariffs on      B worth of aluminum sheet goods  Commerce Secretary Wilbur Ross tells Maria Bartir \n",
      "\n",
      "46)   Stock futures rise for third straight day as stimulus hopes kept alive https   t co SqNIYf GWB\n",
      "\n",
      "47) President Trump talks live with Sean Hannity  tonight at   pm ET on Fox News Channel\n",
      "\n",
      "48) Kremlin critic speaks out in new video after being poisoned  https   t co vmSGIzH Ct\n",
      "\n",
      "49)   Push for more airline aid gains traction as industry warns of more job cuts https   t co Q B FHAN o\n",
      "\n",
      "50) Disney Parks  top doctor  California theme park group slam Gov  Newsom s delay in releasing reopening guidelines  https   t co ye XQslAHO\n",
      "\n",
      "51) Breonna Taylor death  Louisville police documents shine light into investigation details  https   t co AdNnuVPXkJ\n",
      "\n"
     ]
    }
   ],
   "source": [
    "#Positive tweets\n",
    "\n",
    "j = 1\n",
    "sorteddf = df_tweets_Fox_clean.sort_values(by = ['Polarity'])\n",
    "for i in range(0, sorteddf.shape[0]):\n",
    "    if(sorteddf['Analysis'][i] == 'Positive'):\n",
    "        print(str(j) + ') ' + sorteddf['Tweets'][i])\n",
    "        print()\n",
    "        j= j + 1"
   ]
  },
  {
   "cell_type": "code",
   "execution_count": 32,
   "metadata": {},
   "outputs": [
    {
     "name": "stdout",
     "output_type": "stream",
     "text": [
      "1)   asks  How can President Trump keep holding potential superspreader events that will sicken folks and maybe their kids too    He is parading around like Superman  saying he understands Covid better now   but he is only doing things that will make it worse for others   https   t co IKK hxptEW\n",
      "\n",
      "2)   With just    days to go until the election  Joe Biden leads comfortably  John King tells     Can the President wi \n",
      "\n",
      "3) Dr  Anthony Fauci said he is pleased President Trump is doing well after contracting Covid     but warned that not everyone who gets the virus will have the same experience https   t co eN enEhLx \n",
      "\n",
      "4) Apathy  a decrease in motivation and goal directed behavior  in older adults could lead to an increased risk of developing dementia  according to a new study https   t co m YnFSrbPp\n",
      "\n",
      "5) United Airlines has posted its third huge quarterly loss of the year  The carrier posted a      billion loss excluding special items  slightly less the      billion it lost on that basis in the second quarter but a bit above analysts  forecasts  https   t co  BHiM wNTj\n",
      "\n",
      "6) An unidentified man has been spotted flying in a jetpack near Los Angeles International Airport     again https   t co jOtfw u Le\n",
      "\n",
      "7) AstraZeneca  whose Phase   coronavirus vaccine clinical trial has been on hold for more than a month  did not get critical safety data to the US Food and Drug Administration until last week  according to a source familiar with the trial https   t co zvrOntrJrl\n",
      "\n",
      "8) For the first time in more than    years  the NFL will not hold its annual all star game  Instead  the league is focusing on completing the full regular season and postseason during the coronavirus pandemic  https   t co   PeRPCGaP\n",
      "\n",
      "9) The organizers of a summer concert featuring The Chainsmokers initially came under fire for welcoming a crowd that was too tightly packed amid restrictions meant to stop the spread of the coronavirus  Now  New York State wants them to pay up  https   t co aPZlhUdVID\n",
      "\n",
      "10) California has received    times as many ballots than it did at this time in the      general election  with     million ballots returned so far  according to the secretary of state https   t co hUGMWWouF \n",
      "\n",
      "11) Senators on the Judiciary Committee had a second opportunity to ask Supreme Court nominee Amy Coney Barrett questions today  The committee has asked questions for nearly    hours over the course of two days   Here are some of the highlights of the hearing  https   t co l Vt cXtRY\n",
      "\n",
      "12) Nick Saban  the famed head football coach at the University of Alabama  says he has tested positive for Covid    https   t co hxgCDTwaQN\n",
      "\n",
      "13) Expert picks across style  tech  health and home  CNN Underscored  Uncovering the best  https   t co  NDtFkOkdc https   t co  VMtrgN aN\n",
      "\n",
      "14) Supreme Court nominee Amy Coney Barrett used the term sexual preference during a hearing  Many LGBTQ people take issue with that term because it implies that who a person is romantically and sexually attracted to is merely a matter of personal choice  https   t co RPvLljkV C\n",
      "\n",
      "15) A Covid    vaccine may be widely available by April       Dr  Anthony Fauci says https   t co CGZWQ cKqG\n",
      "\n",
      "16) Dem  VP nominee Sen  Kamala Harris started her second round of questioning during Supreme Court nominee Amy Coney Barrett s confirmation by walking through the      Voting Rights Act and the Supreme Court s      ruling striking down a key part of the law https   t co KUxvq JTwl\n",
      "\n",
      "17) President Trump told reporters that his son  Barron  is doing  fine  after testing positive for coronavirus  First lady Melania Trump wrote in an essay that Barron had  no symptoms   and has now tested negative  https   t co VrCu RQg  \n",
      "\n",
      "18) JUST IN  First lady Melania Trump reveals that her son Barron tested positive for coronavirus  She says her son had  no symptoms   and has now tested negative  https   t co dRGqHiwnvu\n",
      "\n",
      "19)  I m standing in the line because my life depends on it   one Atlanta voter says  as early voters continue to encounter lengthy lines to cast their ballots https   t co hjWzVk  GL https   t co NCHNdCoDMx\n",
      "\n",
      "20)       The President is pushing an alternate reality of coronavirus in himself  And that s apparent even on his \n",
      "\n",
      "21) Officials at Brigham Young University Idaho are warning students against intentionally contracting Covid    in order to sell plasma that contains antibodies https   t co FlUEygWoeQ\n",
      "\n",
      "22) Blue Origin  the rocket venture founded by Jeff Bezos  launched its space tourism rocket from its West Texas test site to the edge of Earth s atmosphere on Tuesday  marking the first test flight of the rocket in nearly a year https   t co uALUilIRzy\n",
      "\n",
      "23) Rep  Bill Huizenga  a Michigan Republican  announced that he has tested positive for coronavirus https   t co Pg   lMAa \n",
      "\n",
      "24) Conchata Ferrell  a beloved longtime character actress whose vast list of credits included roles in TV series like  Two and a Half Men  and films like  Edward Scissorhands  and  Erin Brockovich   has died  She was     https   t co eOnBJK Uvr\n",
      "\n",
      "25) A huge bomb dropped by Britain during World War II has exploded after being discovered in a canal in Poland https   t co NuIAEMzUqE\n",
      "\n",
      "26) New York state will withhold funding to local governments not enforcing closures in Covid    cluster areas  Gov  Andrew Cuomo says  https   t co hLslybjZEv\n",
      "\n",
      "27) Italy on Wednesday recorded its highest daily increase in coronavirus cases since the beginning of the pandemic  the latest figures from the country s Ministry of Health show  https   t co mF  Bi l V\n",
      "\n",
      "28) Patricia and Mark McCloskey  the St  Louis homeowners who pointed guns at protesters  have pleaded not guilty to weapons and evidence tampering charges  https   t co ySx fLuFxF\n",
      "\n",
      "29) Two Democratic lawmakers slammed Secretary of Defense Mark Esper s curt answers on the military s potential role in the upcoming presidential election and transfer of power after he declined to explicitly rule out the armed forces becoming involved https   t co vm CDt We \n",
      "\n",
      "30) The International Energy Agency says it s now consistently cheaper to generate electricity by capturing the sun s energy than by burning coal or natural gas in most countries https   t co zYlshVUa F\n",
      "\n",
      "31) A huge bomb dropped by Britain during World War II has exploded after being discovered in a canal in Poland https   t co SbJ Tw Pa \n",
      "\n",
      "32) More than    million people have already cast their ballots in this year s election  as voters in Texas and Georgia faced hours long lines   reports  https   t co bDqEE JLft https   t co ZsXAKonIMs\n",
      "\n",
      "33) An elderly Dutch woman has become the first known person to die after catching Covid    twice  according to experts  raising serious questions about how long immunity and antibodies can last https   t co FZ lh EaIu\n",
      "\n",
      "34) Thailand s King Maha Vajiralongkorn is facing bold opposition from a new generation of young Thais who are pushing for monarchy reform https   t co FuVutYE SB\n",
      "\n",
      "35) CNN s Amara Walker is in the Atlanta area  where long lines of voters have turned out to cast their ballot  Some voters were forced to wait up to eight hours yesterday as Georgia saw a record turnout on the first day of early voting  Watch live  https   t co  FUGfpKKQp\n",
      "\n",
      "36)    Let s face it here  She is a personable  likeable  intelligent person whose done great things in her life     But there is an \n",
      "\n",
      "37) CNN pulled the top global search queries about US presidential elections  Here s what you should know about what s happening with the      election and how it all works  https   t co CjOOk Vj h\n",
      "\n",
      "38) How did Nancy Reagan cope after her husband s nearly fatal assassination attempt  See how she endured and helped her husband recover in an all new episode of  FirstLadies  Sunday at    p m  ET PT https   t co FuNPICXCqV\n",
      "\n",
      "39) Mail in voting is an option this year for more American voters than ever  But the rules depend on where you live   CNN has surveyed all of the state election offices   here s what you need to know  https   t co L  NUEtCec\n",
      "\n",
      "40) For day two of  PrimeDay  our colleagues at  are highlighting all the best Lightning Deals  These sales last for a limited window of time  so if you see something you like  be sure to act quickly  https   t co EniEseVQPp\n",
      "\n",
      "41) Most states restrict campaigning within a certain distance from a polling place to allow people to vote without interference  Depending on where you live  that can include wearing or displaying anything with a political message  https   t co jvntptEGGM\n",
      "\n",
      "42) These new studies suggest that many  if not most  people who recover from Covid    infections are protected for at least a period of time  They also suggest that coronavirus vaccines may be able to protect people for more than just a few weeks  https   t co IOY BXUtfu\n",
      "\n",
      "43) President Trump s Supreme Court nominee  Amy Coney Barrett  is facing the Senate Judiciary Committee for the third day of confirmation hearings  Follow live updates  https   t co sxpqbvYR I\n",
      "\n",
      "44) After Amy Coney Barrett spent    hours before the Senate Judiciary Committee on Tuesday  the    senators on the panel are getting a second round of    minutes for more questions to President Trump s Supreme Court nominee Wednesday  https   t co BAHWMtX yN\n",
      "\n",
      "45) Authorities in     countries and territories have reported about      million Covid    cases and     million deaths since China reported its first cases to the World Health Organization in December  https   t co tVHzzMr Hs\n",
      "\n",
      "46) The candidates were originally scheduled to participate in the second presidential debate Thursday  but the event was canceled after Trump objected to the Commission on Presidential Debates  decision to hold it virtually due to his Covid    diagnosis  https   t co sQj rw gGI\n",
      "\n",
      "47) In their fight against the coronavirus  some governments are introducing digital surveillance and data collection tools that could pose a lasting threat to citizens  rights  according to a new report by research institute Freedom House  https   t co UsY CrPOLT\n",
      "\n",
      "48) Thousands of people  some braving hours long waits  glitches and politically motivated obstruction  are flocking to cast early ballots and writing the story of a pandemic era election that may change how America votes   Analysis by  https   t co FgiKBTdkAt\n",
      "\n",
      "49) A coalition of a voting rights groups has filed a lawsuit to extend Virginia s deadline to register to vote after the online registration system crashed on the final day to sign up before the November general election  https   t co XKMWLgczWK\n",
      "\n",
      "50) More than    years after a    year old girl disappeared in Greeley  Colorado  a former Idaho gubernatorial candidate has been indicted in her death  https   t co dqcsllxnxV\n",
      "\n",
      "51) Stevie Wonder released two new songs Tuesday with the launch of his new label  So What the Fuss Records  https   t co Hu bJJVl k\n",
      "\n",
      "52) The former executive assistant of Fahim Saleh pleaded not guilty Tuesday to charges of first degree murder for allegedly decapitating and dismembering the tech entrepreneur in his luxury New York condo in July  https   t co VmDamqufEg https   t co h ZrjyWvsB\n",
      "\n",
      "53) Conchata Ferrell  a beloved longtime character actress whose vast list of credits included roles in TV series like  Two and a Half Men  and films like  Edward Scissorhands  and  Erin Brockovich   has died  She was     https   t co QKK svITO \n",
      "\n",
      "54) Thailand s King Maha Vajiralongkorn is facing bold opposition from a new generation of young Thais who are pushing for monarchy reform https   t co MD kgVtCfb\n",
      "\n",
      "55) The heart of Nick Torres  the    month old whose parents sued Texas Children s Hospital to keep him on life support  stopped beating Tuesday hours after he was released from the facility  https   t co  tohXLL GX\n",
      "\n",
      "56) Thousands of people  some braving hours long waits  glitches and politically motivated obstruction  are flocking to cast early ballots and writing the story of a pandemic era election that may change how America votes   Analysis by  https   t co BxHhFdbabD\n",
      "\n",
      "57) In their fight against the coronavirus  some governments are introducing digital surveillance and data collection tools that could pose a lasting threat to citizens  rights  according to a new report by research institute Freedom House  https   t co jxhyqJ  De\n",
      "\n",
      "58) The International Energy Agency says it s now consistently cheaper to generate electricity by capturing the sun s energy than by burning coal or natural gas in most countries https   t co  c Ta H A \n",
      "\n",
      "59) An elderly Dutch woman has become the first known person to die after catching Covid    twice  according to experts  raising serious questions about how long immunity and antibodies can last https   t co dzRnLczHgk\n",
      "\n",
      "60)  I am living rent free in his head right now   says Democratic candidate Jaime Harrison about Sen  Graham drawing attention to the Senate race at the Barrett hearings  https   t co NyNStHQ Ph\n",
      "\n",
      "61) Sen  Mazie Hirono says expanding the Supreme Court is just one option she d like considered in terms of  court reform     Increasing the size is only one  but I d like to see some really strong ethics provisions  There are a number of ways that we can try to balance the court   https   t co y IHdgvlaK\n",
      "\n",
      "62) Two Democratic lawmakers slammed Secretary of Defense Mark Esper s curt answers on the military s potential role in the upcoming presidential election and transfer of power after he declined to explicitly rule out the armed forces becoming involved https   t co eqfCHyBFzH\n",
      "\n",
      "63) CNN s  on early voters facing long lines   It should not be this hard to vote in America  It shouldn t be  We should be making an opportunity for everyone to vote   as easy as possible for everyone to vote      Lines like this  they can be a form of voter suppression   https   t co tH YRAR  Q\n",
      "\n",
      "64) Drugmaker Pfizer has plans to start testing its experimental coronavirus vaccine in children as young as      It will be the first coronavirus vaccine trial to include children in the United States  https   t co kIBxh  aBa\n",
      "\n",
      "65) Over       crab eating macaques roam the streets of the ancient city of Lopburi  It s a popular tourist destination  but the monkey population has grown too quickly  causing headaches for city residents  Here s how officials are trying to solve the problem https   t co va VZY z Z\n",
      "\n",
      "66) New York Gov  Andrew Cuomo warns  Covid isn t done with us as a nation     It would be months and months or a year at least    before you get to that full normal   he says  https   t co  G hX p Sn https   t co Zz XimZzc \n",
      "\n",
      "67) Special agents with the US Postal Service discovered undelivered mail in trash bags placed on the curb for pickup outside the home of a postal employee in Baldwin  Pennsylvania https   t co  msPMT NP \n",
      "\n",
      "68) Another  murder  hornet that could have led scientists to its nest has evaded experts once more https   t co  bHX swV x\n",
      "\n",
      "69)  We were united in a way that I d never felt it  It actually was inspiring to me and it gave me energy and that s what keeps me going   says New York Gov  Andrew Cuomo  reflecting on the early days of coronavirus in the state  https   t co  G hX p Sn https   t co e  J Szczl\n",
      "\n",
      "70)  The most important thing I can say is  there s a threat of a second wave  but I am absolutely convinced we can stop a second wave from happening here in New York City   Mayor Bill de Blasio says   This is the week where we have to turn the tide   https   t co YIqAOWlz D\n",
      "\n",
      "71) Judge Amy Coney Barrett has more of a track record detailing her views on abortion and Roe v  Wade than recent nominees  Still  after two days of hearings  Barrett has avoided breaking much new ground  https   t co u IrdgLGZR\n",
      "\n",
      "72)  You can t be confident in the situation   says New York Gov  Andrew Cuomo as the weather begins to cool     People go inside    you ll see the viral transmission tick up   https   t co  G hX p Sn https   t co  t XTwbk  \n",
      "\n",
      "73) Recent tweets from President Trump pledging to  fully authorize  the declassification of Russia investigation records won t declassify records from former special counsel Robert Mueller s investigation  the Justice Department says https   t co  X X EZSuc\n",
      "\n",
      "74) The US attorney tasked by Attorney General William Barr to review instances of  unmasking  done around the      election has completed the probe without bringing any charges  The Washington Post reports https   t co C KcLWbIj \n",
      "\n",
      "75) The Labor Department has announced that Secretary Eugene Scalia s wife  Trish  has tested positive for coronavirus https   t co ZOgvG Nozh\n",
      "\n",
      "76) Australia s Great Barrier Reef has lost     of its coral populations in the last three decades  with climate change a key driver of reef disturbance  a new study has found https   t co  CEkgiEowt\n",
      "\n",
      "77) A spin studio in Hamilton  Ontario  that public health officials say followed all Covid    protocols is now reporting    positive cases of Covid     and as many as     staff  clients and family members may have been exposed https   t co Tb zTWaJGo\n",
      "\n",
      "78) The former executive assistant of Fahim Saleh has pleaded not guilty to charges of first degree murder for allegedly decapitating and dismembering the tech entrepreneur in his luxury New York condo in July https   t co U TeHRuCEA\n",
      "\n",
      "79) Senators questioned Supreme Court nominee Amy Coney Barrett about her views on controversial issues she could face  including abortion  health care and even a potential election dispute  Here s a look at how she responded  https   t co wy K DyuyH https   t co pzcmqXMGrC\n",
      "\n",
      "80) Russian photographer Sergey Gorshkov s picture of a rare tigress hugging a tree earned him the prestigious Wildlife Photographer of the Year award https   t co LFlLB     \n",
      "\n",
      "81) Conchata Ferrell  a beloved longtime character actress whose vast list of credits included roles in TV series like  Two and a Half Men  and films like  Edward Scissorhands  and  Erin Brockovich   has died  She was     https   t co   RrIMgoBe\n",
      "\n",
      "82) Dustin Johnson  the top ranked golfer in the world  has tested positive for Covid    https   t co mrayMMK qe\n",
      "\n",
      "83) As predicted  the US is now grappling with a new Covid    surge   one that could overwhelm hospitals  kill thousands of Americans a day by January and leave even young survivors with long term complications https   t co eOZVGWfkGD\n",
      "\n",
      "84) House Speaker Nancy Pelosi slammed the White House s most recent stimulus proposal as ignoring key economic issues wrought by the pandemic  defending her decision to turn down what she described as a political stunt that would fail to help the public https   t co wjyUqkbumM\n",
      "\n",
      "85) Democratic Sen  Sheldon Whitehouse says he doesn t find comfort in Judge Amy Coney Barrett stating that she is not  hostile  to the Affordable Care Act because the President and GOP senators have made clear their intent to repeal it  https   t co uyYENd YGC\n",
      "\n",
      "86) Convinced he can recreate the against all odds formula that initially propelled him to office  people around President Trump say he has taken few lessons from his illness aside from a reinforced view of his own invincibility  both political and medical https   t co iBitNKt ic\n",
      "\n",
      "87) Supreme Court nominee Amy Coney Barrett said during her confirmation hearing that  one of the beauties of America  is that the country engages in peaceful transfers of power https   t co HdX  hMTIW\n",
      "\n",
      "88) Supreme Court nominee Amy Coney Barrett said during her confirmation hearing on Tuesday that  one of the beauties of America  is that the country engages in peaceful transfers of power https   t co kyeepQKWhC\n",
      "\n",
      "89) The second day of Supreme Court nominee Amy Coney Barrett s confirmation hearing has wrapped   Barrett faced questions for more than    hours from the Senate Judiciary Committee  Here are some key takeaways  https   t co Sl sG u yx\n",
      "\n",
      "90) Amy Coney Barrett apologizes for causing offense after Sen  Mazie Hirono slams her for using the term  sexual preference  to describe those in the LGBTQ community https   t co  GpiBPYlTs\n",
      "\n",
      "91) The New York Philharmonic has announced that it is canceling the rest of its         season through June           citing mandatory state and city government health regulations during the coronavirus pandemic https   t co i LQjOPUYe\n",
      "\n",
      "92) Health officials in Nashville  Tennessee  are investigating an outdoor religious concert that they say took place downtown without a permit on Sunday and drew large crowds of people who weren t wearing masks https   t co eu vV za v\n",
      "\n",
      "93) Four members of the Vatican s Swiss Guard have tested positive for Covid    over the weekend and are in isolation https   t co vI g dkxKi\n",
      "\n",
      "94) The Justice Department is suing Stephanie Winston Wolkoff  an ex friend and former adviser to first lady Melania Trump  claiming she breached a confidentiality agreement by publishing a tell all book https   t co  b T rNtbF\n",
      "\n",
      "95) A federal judge has ruled against the Department of Homeland Security  finding that the department acted unlawfully earlier this year when it banned New York residents from Trusted Traveler Programs like Global Entry https   t co Pui HMZEV \n",
      "\n",
      "96) New Mexico Gov  Michelle Lujan Grisham is announcing a partial rollback of the state s economic reopening  as coronavirus numbers increase rapidly https   t co shOuB rgjh\n",
      "\n",
      "97) Early voting began in Texas on Tuesday with lines and hours long wait times for thousands of voters at some locations https   t co hXBBWPs  u\n",
      "\n",
      "98) An elderly Dutch woman has become the first known person to die after catching Covid    twice  according to experts  raising serious questions about how long immunity and antibodies can last https   t co nJQviu o u\n",
      "\n",
      "99) Dr  Peter Hotez on President Trump s aggressive rally schedule   This is going to be one of the most troubling times in our modern history in terms of the public being frightened  homeland security being affected   and yet  the President seems oblivious to it   https   t co mLIj OyyH \n",
      "\n",
      "100) Apple is adding a magnet to the back of the iPhone    to make it line up better with wireless chargers  for more efficient charging  https   t co KWZjVhqwU   AppleEvent\n",
      "\n",
      "101) The HomePod mini is Apple s newest smart speaker  It looks similar to Amazon s new Echo speakers and costs      https   t co tcyT yG pv https   t co  Da CT rH \n",
      "\n",
      "102) After announcing five new Covid    positive tests within the football team earlier on Tuesday  the University of Florida has paused team activities  according to a statement from Athletics Director Scott Stricklin https   t co cREWuHJG B\n",
      "\n",
      "103) Dr  Anthony Fauci  the nation s leading infectious disease expert  said current efforts toward Covid    vaccine development are  on a really good track  despite news that a second vaccine was put on hold this week https   t co cGvVVj G X\n",
      "\n",
      "104) Kentucky Attorney General Daniel Cameron will have armed security through the end of the year after he received threats to his safety  according to documents from his office https   t co twZIyMI dq\n",
      "\n",
      "105) American golfer Dustin Johnson  who sits atop the World Golf Rankings  has tested positive for Covid     according to a statement from the PGA Tour   As a result  Johnson has withdrawn from this week s tournament in Las Vegas  https   t co LlHDtvTTJs\n",
      "\n",
      "106) President Trump s Supreme Court nominee Amy Coney Barrett insisted she made no commitments to the President or anyone else about how she might rule on a case aimed at dismantling the Affordable Care Act if she s confirmed https   t co rGJTwVwETo\n",
      "\n"
     ]
    }
   ],
   "source": [
    "j = 1\n",
    "sorteddfCNN = df_tweets_CNN_clean.sort_values(by = ['Polarity'])\n",
    "for i in range(0, sorteddfCNN.shape[0]):\n",
    "    if(sorteddfCNN['Analysis'][i] == 'Positive'):\n",
    "        print(str(j) + ') ' + sorteddfCNN['Tweets'][i])\n",
    "        print()\n",
    "        j= j + 1"
   ]
  },
  {
   "cell_type": "code",
   "execution_count": 33,
   "metadata": {},
   "outputs": [
    {
     "name": "stdout",
     "output_type": "stream",
     "text": [
      "1) BIG TECH BACKLASHPublished    mins ago Twitter s Jack Dorsey says company botched blocking NYP article on alleged emails on Hunter Biden s laptop https   t co SlS jXyCCB\n",
      "\n",
      "2) Sen  John Kennedy  New Hunter Biden report as serious as  four heart attacks and a stroke  https   t co  Hto XEbic\n",
      "\n",
      "3) Barrett admits she had glass of wine after long confirmation hearing day   I needed that  https   t co oSFuSq u  \n",
      "\n",
      "4) Hunter Biden emails under investigation by Senate Homeland Security Committee after hard drive report emerges  https   t co IeEsZPzlJ \n",
      "\n",
      "5) Bojangles fires employees who allegedly pretended to spit in officer s order  https   t co WyViT  shl\n",
      "\n",
      "6) Barrett  pressed by Democrats on future of ObamaCare in hearing  makes  Jenga game  comparison  https   t co L  rf lyYR https   t co uvhxffoJRl\n",
      "\n",
      "7) Biden says Pennsylvania plant  thinking of shutting down   company responds to  untrue  claim  report  https   t co  OsNmg Ns \n",
      "\n",
      "8) WATCH NOW  Supreme Court nominee on Capitol Hill  set to face another fierce round of questioning  https   t co OopqRCW qP https   t co x MQATpbNx\n",
      "\n",
      "9) Montana mother of four found dead in storage facility after missing for two weeks  https   t co SZOqwwWam \n",
      "\n",
      "10) Army veteran suffers from heat exhaustion  first responders finish cutting his grass  https   t co fxz tzPCzy\n",
      "\n",
      "11) Amy Coney Barrett prepping for another round of questioning on capitol hill today  here are   key moments from yesterday s hearing    https   t co o rI hlEog\n",
      "\n",
      "12) Ayanna Pressley challenger in Massachusetts says she was attacked at local Trump rally  suffered broken tibia https   t co C tOqKclHr\n",
      "\n",
      "13)  TERRIBLE MISTAKE   Sen  Mike Lee rails against court packing  recalls past Biden speech https   t co cW  Sz  vc\n",
      "\n",
      "14) Barrett says she is  all in  on serving her country despite negative onslaught  https   t co XBaJ Otujm\n",
      "\n",
      "15)  Incredibly unfortunate loss of life   Louisiana officials warn residents about generators after deaths  https   t co gDciMbphV \n",
      "\n",
      "16) Ambulance arrives for Georgia voters  passing out  in long lines  Report https   t co rgzEUDhOWJ\n",
      "\n",
      "17) Trump reacts after Portland demonstrators violently topple statues of American giants  https   t co i  hy eMA \n",
      "\n",
      "18)   British Airways replaces CEO during industry s  worst crisis  https   t co gSDKpELSp \n",
      "\n",
      "19) Protesters surround Jewish journalist s home after NYC council candidate s rioting arrest  https   t co OgNW  Fsod\n",
      "\n",
      "20) A   year old child suffered serious burns after falling into one of Yellowstone National Park s thermal features  https   t co YxIqup  Ru\n",
      "\n",
      "21) Owner of vacuum shop tied to  insane  Michigan militia plot doing damage control https   t co t YQk KAqH\n",
      "\n",
      "22) Fight for PA legislature heats up as clock runs down on Wolf s time as governor  https   t co rOs  eomG \n",
      "\n",
      "23) Moderator of  nd presidential debate tweets  odd  message to fierce Trump critic  raises bias concerns  https   t co ZmERO TvFr\n",
      "\n",
      "24) Slain teen s mom arrested amid protest over deadly officer involved shooting  https   t co   jwU XTJd\n",
      "\n",
      "25) Graham steps in  precarious  spotlight for Supreme Court confirmation during tough reelection fight  https   t co vXCtNPluKD\n",
      "\n",
      "26) Booby trapped Trump Pence sign leaves Mich  worker injured  https   t co ivQ EbwUy \n",
      "\n",
      "27) Joe Biden doubles down on court packing   You ll know my position  after the election https   t co GeyieFwXNU\n",
      "\n",
      "28) Michigan Gov  Whitmer  Trump provided  rallying cry  to hate groups as kidnapping plot thwarted https   t co VJntrAI fb\n",
      "\n",
      "29) Florida newlyweds killed four days after wedding when private plane crashes during Colorado honeymoon  https   t co J sdJeSs W\n",
      "\n",
      "30) Chicago woman allegedly chased officers  struck police cars after cops stopped someone she knew  https   t co ub YeXpUU \n",
      "\n",
      "31) BREAKING NOW  Three men charged in Michigan after allegedly plotting to abduct  kill Governor Whitmer  https   t co  mzPhxmSUJ\n",
      "\n",
      "32) Kamala Harris  past comments on key issue come back to haunt her during debate  https   t co  bZ LfJof \n",
      "\n",
      "33) Eddie Van Halen s brother shares family pictures  pays tribute to late rocker  https   t co zu r lQNMT\n",
      "\n",
      "34) Mackenzie Lueck s killer pleads guilty to aggravated murder  will avoid death penalty  reports  https   t co HtFmQb gwn\n",
      "\n",
      "35)   Trump tells FOX Business if Amy Coney Barrett is not confirmed to Supreme Court it will be Republicans  fault https   t co \n",
      "\n",
      "36) Dad  kids thrown from watercraft in deadly accident at Utah park  https   t co cPSyzNpD R\n",
      "\n",
      "37)   Trump tells Maria Bartiromo he shut down stimulus talks because he didn t  want to play games  https   t co PXtRCnJIll\n",
      "\n",
      "38) Jewish reporter attacked and called  Nazi  after Orthodox protest turns violent  video shows  https   t co Sh oloHZv \n",
      "\n"
     ]
    }
   ],
   "source": [
    "# Negative Tweets\n",
    "\n",
    "j = 1\n",
    "sorteddf = df_tweets_Fox_clean.sort_values(by = ['Polarity'], ascending = 'False')\n",
    "for i in range(0, sorteddf.shape[0]):\n",
    "    if(sorteddf['Analysis'][i] == 'Negative'):\n",
    "        print(str(j) + ') ' + sorteddf['Tweets'][i])\n",
    "        print()\n",
    "        j= j + 1"
   ]
  },
  {
   "cell_type": "code",
   "execution_count": 34,
   "metadata": {},
   "outputs": [
    {
     "name": "stdout",
     "output_type": "stream",
     "text": [
      "1)  Being weak     as my grandfather understood it  was unacceptable   says Mary Trump    Donald doesn t want to be associated with Covid at all  even if it s someone else having it    If he had been asymptomatic  we probably never would have known that he had tested positive   https   t co aJsf  qfS \n",
      "\n",
      "2) Only half of registered voters in the United States say they expect to know the results of the upcoming presidential election within a  day or two  of Election Day  a new study by the Pew Research Center says https   t co hH deJzwDQ\n",
      "\n",
      "3) This is  all part of the reckless approach that the White House has taken with coronavirus   CNN s  discusses Pres  Trump holding rallies with thousands of supporters packed together with few masks despite the coronavirus pandemic  https   t co lR U p  Up https   t co iDGoDLBrHQ\n",
      "\n",
      "4) A disturbing number of courts are refusing to protect the right to vote because they are unduly deferential to state legislatures and election officials   writes for  https   t co WBlRTfwPAY\n",
      "\n",
      "5) With the President struggling in the suburbs  the Trump campaign is trying to squeeze even more votes out of his base in places like Westmoreland County  which has seen a surge in GOP voter registrations since President Trump took office https   t co  poEmC Lup\n",
      "\n",
      "6) The California Republican Party said it will not comply with the state s cease and desist order over unofficial ballot drop boxes placed in at least four counties ahead of the November election https   t co  HyL wU  k\n",
      "\n",
      "7)  This apology is    years too late   The city of Greensboro  North Carolina  has formally apologized for the deaths of five people during an attack by Ku Klux Klan members and the American Nazi Party in       Some are wondering why it s taken so long  https   t co gdIBpgzFR \n",
      "\n",
      "8) Public calendars from the University of Notre Dame s law school show at least seven additional talks not listed on Judge Amy Coney Barrett s Senate paperwork  including one with the law school s anti abortion group  according to a CNN KFile review https   t co jzBNUoj  C\n",
      "\n",
      "9)  It would not have been hard for Barrett to show some distance from the President by restating uncontested points about the law Frankly  it s insulting to the public to suggest that she has no views on such critical issues       https   t co FH FUnHPOV\n",
      "\n",
      "10) The often at odds collection of health experts and political figures who comprise President Trump s coronavirus task force now appear less influential than ever as Covid    cases begin to spike again three weeks before Election Day https   t co zfKcgw h H\n",
      "\n",
      "11) President Trump is expected to attend a rally in Des Moines  Iowa  tonight   his second campaign event since his bout with Covid    https   t co Qy k OuDf \n",
      "\n",
      "12) The Senate Judiciary Committee is expected to meet at   a m  Thursday to mark up the nomination of Amy Coney Barrett to the Supreme Court  according to a GOP aide https   t co Vw efjKhKp\n",
      "\n",
      "13) Beginning on October     Hawaii s pre arrival testing program will allow tourists to skip the mandatory    day quarantine with a negative Covid test   But travelers may not recognize the Hawaii that greets them  https   t co YkBECjEeqS\n",
      "\n",
      "14) Exclusive  For more than three years  federal investigators secretly chased a suspected foreign link to Donald Trump s     million donation to his      campaign  until officials finally concluded this summer they had reached a dead end  https   t co aWrxI BAXU\n",
      "\n",
      "15) The fall Covid    surge is here  fueled by cooler weather  reopened schools and pandemic fatigue  But that doesn t mean things have to be miserable   Here s how you can stay healthy and sane  and actually enjoy these cold weather months  https   t co  WRWZKVvmG\n",
      "\n",
      "16) Made up Biden policies  False jobs numbers  A wrong timeline about Minnesota unrest  Repeat inaccuracy about NATO  The usual lie about Mexico paying for the wall  https   t co Wkp dx SoX\n",
      "\n",
      "17) A sheriff in Michigan says he knew nothing of an alleged terror plot targeting Michigan Gov  Gretchen Whitmer  But his apparent friendly relationship with members of the armed group suggests there can be blind spots for local law enforcement  https   t co mg GiuxTq \n",
      "\n",
      "18) Before police killed her  Breonna Taylor and Kenneth Walker III were discussing marriage and possible names for their future kids  and had even bought a pair of baby Air Jordans for their would be child  the boyfriend said during an interview  https   t co  IOlOVtjKA\n",
      "\n",
      "19) People with blood type O may be less vulnerable to Covid    and have a reduced likelihood of getting severely ill  according to two studies  Experts say more research is needed  https   t co cgtD P  R \n",
      "\n",
      "20)  There s really no charitable reading possible for McConnell s chuckling at a debate over the question of Covid relief   writes  for  https   t co laV  eteH \n",
      "\n",
      "21) Every year around this time  companies offer employees the chance to update their benefit preferences during open enrollment   Usually  the changes are minimal  Not this year  https   t co  xf sB hw \n",
      "\n",
      "22) The White woman who called police on a Black man birdwatching in Central Park in May made a second     call about the encounter  adding that the man  tried to assault her   prosecutors say  She has been charged with a misdemeanor  https   t co rR JLT TmQ\n",
      "\n",
      "23) Are you having trouble voting by mail or in person  Have you received disinformation  Share your story  https   t co SzHdZNLFWF\n",
      "\n",
      "24) Chinese President Xi Jinping has called on troops to  put all  their  minds and energy on preparing for war  in a visit to a military base in the southern province of Guangdong  according to state media https   t co gQmF yrqyK\n",
      "\n",
      "25) A federal judge in Virginia says he will re open voter registration in the state through Thursday after a computer outage took down the system Tuesday  the deadline to register  https   t co  sF DXOVmB\n",
      "\n",
      "26) Made up Biden policies  False jobs numbers  A wrong timeline about Minnesota unrest  Repeat inaccuracy about NATO  The usual lie about Mexico paying for the wall  https   t co  vJEnLdZjL\n",
      "\n",
      "27) A sheriff in Michigan says he knew nothing of an alleged terror plot targeting Michigan Gov  Gretchen Whitmer  But his apparent friendly relationship with members of the armed group suggests there can be blind spots for local law enforcement  https   t co crLrkiyAde\n",
      "\n",
      "28) A security guard being held in a Denver jail on suspicion of murder allegedly shot another man who slapped him and who fired pepper spray at him  according to the police arrest affidavit  https   t co GZ  wRwhoY\n",
      "\n",
      "29) Small gatherings are becoming a growing source of Covid    spread  a leading health expert said  as at least    states are now reporting increased cases of the virus and hospitalizations are on the rise nationwide  https   t co DWojAP UF \n",
      "\n",
      "30) The devastating Zogg Fire  which killed four people and scorched more than        acres in Northern California s Shasta County  has been fully contained  according to Cal Fire https   t co keHipmCOX \n",
      "\n",
      "31) A California woman is still missing one week after going for a hike in Zion National Park  https   t co dMwYbipnB \n",
      "\n",
      "32) The New York Philharmonic is making a  dreadful  move for the first time in its     year history  canceling its entire season  https   t co PO CBR U g\n",
      "\n",
      "33) Endangered Senate Republicans have a new running mate in the battle to keep their narrow majority  Amy Coney Barrett  https   t co z nZ wIULH\n",
      "\n",
      "34) The devastating Zogg Fire  which killed four people and scorched more than        acres in Northern California s Shasta County  has been fully contained  according to Cal Fire https   t co TW Bkzculh\n",
      "\n",
      "35) Apple has a solution for home screen clutter  Mini apps   Instead of downloading an app  you can pull up just one part of it  saving valuable space on your phone  In China  that has long been the norm  https   t co PPgNSkekHL\n",
      "\n",
      "36) Come January       the roughly    million people who receive Social Security will see a      increase in their benefit payments to account for the rising cost of living  the Social Security Administration has announced https   t co   MdWPtWw \n",
      "\n",
      "37)  There s really no charitable reading possible for McConnell s chuckling at a debate over the question of Covid relief   writes  for  https   t co ypryxiQE  \n",
      "\n",
      "38) Former Ohio Gov  John Kasich says the presidential race is  extremely close   but  I probably still give this to Trump in Ohio   https   t co tgQBeye nC https   t co Pwqp  liur\n",
      "\n",
      "39)  We ve made each other the enemy  not the virus  The virus is the true enemy  And this is only going to get settled on November      Pennsylvania Lt  Gov  John Fetterman on Pres  Trump holding rallies with no social distancing amid chilling new warnings about the resurgent virus https   t co DJtzShXSGw\n",
      "\n",
      "40) The federal government said it was investing close to half a billion dollars in a cartridge based on the spot coronavirus test that it said would help  dramatically  expand its supply of tests by next spring https   t co zmQQ nmSom\n",
      "\n",
      "41)  Unofficial ballot drop boxes have popped up promising  wrongly  that they are  authorized  places where people can deposit their mail in votes      It doesn t work that way under California election law   writes  https   t co qlw R oYbV\n",
      "\n",
      "42) Women in states with fewer reproductive health restrictions deliver healthier babies  at least as measured by birth weight  researchers have reported https   t co B og   g X\n",
      "\n",
      "43)  Those who depend on the ACA are afraid of their lives being turned upside down if the court strikes it down  They know what could happen   Sen  Kamala Harris told Judge Amy Coney Barrett that Americans fear losing the Affordable Care Act amid the pandemic https   t co MNsZ iXQyI https   t co YwwTsCn ml\n",
      "\n",
      "44) Former President Obama is expected to hit the campaign trail next week  Democratic officials tell CNN  as he looks to step up his work in support of former Vice President Joe Biden in the final stretch https   t co A oeDL Amv\n",
      "\n",
      "45) At least    people have died in protests over police brutality in Nigeria  Amnesty International says https   t co GLpHx  X x\n",
      "\n",
      "46) Are you having trouble voting by mail or in person  Have you received disinformation  Share your story  https   t co nZAXmMQ K \n",
      "\n",
      "47) Utah is experiencing  one of the worst outbreaks in the country  and has announced a new three tier Covid    monitoring system for counties  Utah Gov  Gary Herbert says https   t co   nBWjEZri\n",
      "\n",
      "48) A California woman is still missing one week after going for a hike in Zion National Park https   t co hZHwxxxBbl\n",
      "\n",
      "49) Apple will ship the iPhone    without headphones or a charging port  a move aimed at cutting down on waste  https   t co  pIDov sO   iPhone  \n",
      "\n",
      "50) Judge Amy Coney Barrett   I am not here on a mission to destroy the Affordable Care Act  I m just here to apply the law and adhere to the rule of law   https   t co oxN jSB    https   t co Jd VDrpY h\n",
      "\n",
      "51) The Danish government has ordered the country s mink farms to cull over   million mink due to a series of Covid    outbreaks among the animals https   t co PzqAkpO Cz\n",
      "\n"
     ]
    }
   ],
   "source": [
    "j = 1\n",
    "sorteddfCNN1 = df_tweets_CNN_clean.sort_values(by = ['Polarity'], ascending = 'False')\n",
    "for i in range(0, sorteddfCNN1.shape[0]):\n",
    "    if(sorteddfCNN1['Analysis'][i] == 'Negative'):\n",
    "        print(str(j) + ') ' + sorteddfCNN1['Tweets'][i])\n",
    "        print()\n",
    "        j= j + 1"
   ]
  },
  {
   "cell_type": "code",
   "execution_count": 35,
   "metadata": {},
   "outputs": [
    {
     "data": {
      "text/html": [
       "<div>\n",
       "<style scoped>\n",
       "    .dataframe tbody tr th:only-of-type {\n",
       "        vertical-align: middle;\n",
       "    }\n",
       "\n",
       "    .dataframe tbody tr th {\n",
       "        vertical-align: top;\n",
       "    }\n",
       "\n",
       "    .dataframe thead th {\n",
       "        text-align: right;\n",
       "    }\n",
       "</style>\n",
       "<table border=\"1\" class=\"dataframe\">\n",
       "  <thead>\n",
       "    <tr style=\"text-align: right;\">\n",
       "      <th></th>\n",
       "      <th>Tweets</th>\n",
       "      <th>Subjectivity</th>\n",
       "      <th>Polarity</th>\n",
       "      <th>Analysis</th>\n",
       "    </tr>\n",
       "  </thead>\n",
       "  <tbody>\n",
       "    <tr>\n",
       "      <td>0</td>\n",
       "      <td>Being weak     as my grandfather understood i...</td>\n",
       "      <td>0.585227</td>\n",
       "      <td>-0.073864</td>\n",
       "      <td>Negative</td>\n",
       "    </tr>\n",
       "    <tr>\n",
       "      <td>1</td>\n",
       "      <td>Only half of registered voters in the United S...</td>\n",
       "      <td>0.430303</td>\n",
       "      <td>-0.032576</td>\n",
       "      <td>Negative</td>\n",
       "    </tr>\n",
       "    <tr>\n",
       "      <td>2</td>\n",
       "      <td>asks  How can President Trump keep holding p...</td>\n",
       "      <td>0.775000</td>\n",
       "      <td>0.025000</td>\n",
       "      <td>Positive</td>\n",
       "    </tr>\n",
       "    <tr>\n",
       "      <td>3</td>\n",
       "      <td>With just    days to go until the election  ...</td>\n",
       "      <td>0.800000</td>\n",
       "      <td>0.400000</td>\n",
       "      <td>Positive</td>\n",
       "    </tr>\n",
       "    <tr>\n",
       "      <td>4</td>\n",
       "      <td>This is  all part of the reckless approach tha...</td>\n",
       "      <td>0.050000</td>\n",
       "      <td>-0.100000</td>\n",
       "      <td>Negative</td>\n",
       "    </tr>\n",
       "  </tbody>\n",
       "</table>\n",
       "</div>"
      ],
      "text/plain": [
       "                                              Tweets  Subjectivity  Polarity  \\\n",
       "0   Being weak     as my grandfather understood i...      0.585227 -0.073864   \n",
       "1  Only half of registered voters in the United S...      0.430303 -0.032576   \n",
       "2    asks  How can President Trump keep holding p...      0.775000  0.025000   \n",
       "3    With just    days to go until the election  ...      0.800000  0.400000   \n",
       "4  This is  all part of the reckless approach tha...      0.050000 -0.100000   \n",
       "\n",
       "   Analysis  \n",
       "0  Negative  \n",
       "1  Negative  \n",
       "2  Positive  \n",
       "3  Positive  \n",
       "4  Negative  "
      ]
     },
     "execution_count": 35,
     "metadata": {},
     "output_type": "execute_result"
    }
   ],
   "source": [
    "df_tweets_CNN_clean.head()"
   ]
  },
  {
   "cell_type": "code",
   "execution_count": 36,
   "metadata": {},
   "outputs": [],
   "source": [
    "df_CNN = df_tweets_CNN_clean[['Polarity', 'Subjectivity']]\n",
    "# df_CNN.head()"
   ]
  },
  {
   "cell_type": "code",
   "execution_count": 37,
   "metadata": {},
   "outputs": [],
   "source": [
    "df_Fox = df_tweets_Fox_clean[['Polarity', 'Subjectivity']]\n",
    "# df_Fox.head()"
   ]
  },
  {
   "cell_type": "code",
   "execution_count": 39,
   "metadata": {},
   "outputs": [
    {
     "data": {
      "image/png": "[encoded data removed]",
      "text/plain": [
       "<Figure size 1152x1008 with 4 Axes>"
      ]
     },
     "metadata": {
      "needs_background": "light"
     },
     "output_type": "display_data"
    }
   ],
   "source": [
    "fig = plt.figure(figsize = (16, 14)) # create figure\n",
    "\n",
    "ax0 = fig.add_subplot(2, 2, 1) \n",
    "ax1 = fig.add_subplot(2, 2, 2) \n",
    "ax2 = fig.add_subplot(2, 2, 3) \n",
    "ax3 = fig.add_subplot(2, 2, 4) \n",
    "\n",
    "df_CNN.plot(kind='scatter', x='Polarity', y='Subjectivity', color = 'blue', ax=ax0)\n",
    "ax0.set_title('Sentiment Analysis -  CNN 250 tweets', fontsize = 16)\n",
    "ax0.set_xlabel('Polarity', fontsize = 14)\n",
    "ax0.set_ylabel('Subjectivity', fontsize = 14)\n",
    "\n",
    "df_Fox.plot(kind='scatter', x='Polarity', y='Subjectivity', color = 'green', ax=ax1)\n",
    "ax1.set_title('Sentiment Analysis -  FoxNews 250 tweets', fontsize = 16 )\n",
    "ax1.set_xlabel('Polarity', fontsize = 14)\n",
    "ax1.set_ylabel('Subjectivity', fontsize = 14)\n",
    "\n",
    "df_tweets_CNN_clean['Analysis'].value_counts().plot(kind = 'barh', color = 'blue', ax = ax2)\n",
    "df_tweets_Fox_clean['Analysis'].value_counts().plot(kind = 'barh', color = 'green', ax = ax3)\n",
    "\n",
    "# ax2.set_title('Sentiment Analysis -  CNN 250 tweets', fontsize = 16)\n",
    "ax2.set_xlabel('Count of tweets', fontsize = 14)\n",
    "ax2.set_ylabel('Tweet Sentiment', fontsize = 14)\n",
    "\n",
    "# ax3.set_title('Sentiment Analysis -  Fox 250 tweets', fontsize = 16)\n",
    "ax3.set_xlabel('Count of tweets', fontsize = 14)\n",
    "ax3.set_ylabel('Tweet Sentiment', fontsize = 14)\n",
    "\n",
    "plt.show()"
   ]
  },
  {
   "cell_type": "code",
   "execution_count": 40,
   "metadata": {},
   "outputs": [
    {
     "data": {
      "text/plain": [
       "<Figure size 432x288 with 0 Axes>"
      ]
     },
     "metadata": {},
     "output_type": "display_data"
    }
   ],
   "source": [
    "plt.savefig('Sentiment1.png')"
   ]
  },
  {
   "cell_type": "code",
   "execution_count": 41,
   "metadata": {},
   "outputs": [],
   "source": [
    "fig.savefig('Sentiment2.png')"
   ]
  },
  {
   "cell_type": "code",
   "execution_count": null,
   "metadata": {},
   "outputs": [],
   "source": [
    "# % positive tweets\n",
    "posTweets = df_tweets_CNN_clean[df_tweets_CNN_clean.Analysis == 'Positive']\n",
    "posTweets = posTweets['Tweets']\n",
    "\n",
    "round((posTweets.shape[0]/df_tweets_CNN_clean.shape[0])*100, 1)"
   ]
  },
  {
   "cell_type": "code",
   "execution_count": null,
   "metadata": {},
   "outputs": [],
   "source": [
    "negTweets = df_tweets_CNN_clean[df_tweets_CNN_clean.Analysis == 'Negative']\n",
    "negTweets = negTweets['Tweets']\n",
    "\n",
    "round((negTweets.shape[0]/df_tweets_CNN_clean.shape[0])*100, 1)"
   ]
  },
  {
   "cell_type": "code",
   "execution_count": null,
   "metadata": {},
   "outputs": [],
   "source": [
    "# % positive tweets\n",
    "posTweets = df_tweets_Fox_clean[df_tweets_Fox_clean.Analysis == 'Positive']\n",
    "posTweets = posTweets['Tweets']\n",
    "\n",
    "round((posTweets.shape[0]/df_tweets_Fox_clean.shape[0])*100, 1)"
   ]
  },
  {
   "cell_type": "code",
   "execution_count": null,
   "metadata": {},
   "outputs": [],
   "source": [
    "negTweets = df_tweets_Fox_clean[df_tweets_Fox_clean.Analysis == 'Negative']\n",
    "negTweets = negTweets['Tweets']\n",
    "\n",
    "round((negTweets.shape[0]/df_tweets_Fox_clean.shape[0])*100, 1)"
   ]
  }
 ],
 "metadata": {
  "kernelspec": {
   "display_name": "Python 3",
   "language": "python",
   "name": "python3"
  },
  "language_info": {
   "codemirror_mode": {
    "name": "ipython",
    "version": 3
   },
   "file_extension": ".py",
   "mimetype": "text/x-python",
   "name": "python",
   "nbconvert_exporter": "python",
   "pygments_lexer": "ipython3",
   "version": "3.7.4"
  }
 },
 "nbformat": 4,
 "nbformat_minor": 2
}
