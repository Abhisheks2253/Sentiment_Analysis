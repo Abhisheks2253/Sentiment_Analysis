{
 "cells": [
  {
   "cell_type": "markdown",
   "metadata": {},
   "source": [
    "## Sentiment Analysis - News Channels (CNN, Fox)"
   ]
  },
  {
   "cell_type": "code",
   "execution_count": 1,
   "metadata": {},
   "outputs": [],
   "source": [
    "# Import relevant libraries\n",
    "\n",
    "import json\n",
    "import tweepy\n",
    "import csv\n",
    "import re\n",
    "import pandas as pd\n",
    "import numpy as np\n",
    "from textblob import TextBlob\n",
    "from wordcloud import WordCloud\n",
    "\n",
    "import matplotlib.pyplot as plt\n",
    "plt.style.use('fivethirtyeight')"
   ]
  },
  {
   "cell_type": "code",
   "execution_count": 4,
   "metadata": {},
   "outputs": [
    {
     "name": "stdout",
     "output_type": "stream",
     "text": [
      "/Users/abhishekshirsat/Desktop\n"
     ]
    }
   ],
   "source": [
    "cd /Users/abhishekshirsat/Desktop"
   ]
  },
  {
   "cell_type": "code",
   "execution_count": 5,
   "metadata": {},
   "outputs": [],
   "source": [
    "#Load the API keys from csv and save in variables\n",
    "\n",
    "log = pd.read_csv('Twitter_API_keys.csv')"
   ]
  },
  {
   "cell_type": "code",
   "execution_count": 6,
   "metadata": {},
   "outputs": [],
   "source": [
    "mykey = log['Key'][0]\n",
    "mysecret = log['Key'][1]\n",
    "access_token = log['Key'][2]\n",
    "access_token_Secret = log['Key'][3]"
   ]
  },
  {
   "cell_type": "code",
   "execution_count": 7,
   "metadata": {},
   "outputs": [],
   "source": [
    "# Create authentication object\n",
    "authenticate = tweepy.OAuthHandler(mykey, mysecret)\n",
    "\n",
    "# Create access object\n",
    "authenticate.set_access_token(access_token, access_token_Secret)\n",
    "\n",
    "# Create API object\n",
    "api = tweepy.API(authenticate, wait_on_rate_limit = True)"
   ]
  },
  {
   "cell_type": "code",
   "execution_count": 8,
   "metadata": {},
   "outputs": [],
   "source": [
    "# Extract tweets using username\n",
    "\n",
    "tweet_post_CNN = api.user_timeline(screen_name = 'CNN', count = 250, lang = 'en', tweet_mode = 'extended')"
   ]
  },
  {
   "cell_type": "code",
   "execution_count": 9,
   "metadata": {},
   "outputs": [],
   "source": [
    "tweet_post_Fox = api.user_timeline(screen_name = 'FoxNews', count = 250, lang = 'en', tweet_mode = 'extended')"
   ]
  },
  {
   "cell_type": "code",
   "execution_count": 10,
   "metadata": {},
   "outputs": [],
   "source": [
    "# for tweet in tweet_post_CNN[0:5]:\n",
    "#     print(tweet.full_text + '\\n')"
   ]
  },
  {
   "cell_type": "code",
   "execution_count": 11,
   "metadata": {},
   "outputs": [],
   "source": [
    "# for tweet in tweet_post_Fox[0:5]:\n",
    "#     print(tweet.full_text + '\\n')"
   ]
  },
  {
   "cell_type": "code",
   "execution_count": 12,
   "metadata": {},
   "outputs": [],
   "source": [
    "df_tweets_CNN = pd.DataFrame([tweet.full_text for tweet in tweet_post_CNN], columns = ['Tweets'])"
   ]
  },
  {
   "cell_type": "code",
   "execution_count": 13,
   "metadata": {},
   "outputs": [],
   "source": [
    "df_tweets_Fox = pd.DataFrame([tweet.full_text for tweet in tweet_post_Fox], columns = ['Tweets'])"
   ]
  },
  {
   "cell_type": "code",
   "execution_count": 14,
   "metadata": {},
   "outputs": [],
   "source": [
    "# df_tweets_Fox.head(5)"
   ]
  },
  {
   "cell_type": "code",
   "execution_count": 15,
   "metadata": {},
   "outputs": [],
   "source": [
    "df_tweets_Fox1 = df_tweets_Fox.copy()  #checkpoint"
   ]
  },
  {
   "cell_type": "code",
   "execution_count": 16,
   "metadata": {},
   "outputs": [],
   "source": [
    "df_tweets_CNN1 = df_tweets_CNN.copy()  #checkpoint"
   ]
  },
  {
   "cell_type": "code",
   "execution_count": 17,
   "metadata": {},
   "outputs": [],
   "source": [
    "# Function to clean the text   \n",
    "#https://towardsdatascience.com/another-twitter-sentiment-analysis-bb5b01ebad90\n",
    "\n",
    "import re\n",
    "def cleanText(text):\n",
    "    text = re.sub(r'@[A-Za-z0-9]+','', text) #removes @mentions\n",
    "    text = re.sub(\"[^a-zA-Z]\", \" \", text) #removes #\n",
    "    text = re.sub(r'RT[\\s+]', '', text)  #removes RT\n",
    "    text = re.sub('https?://[A-Za-z0-9./]+','', text) # removes url\n",
    "    \n",
    "    return text"
   ]
  },
  {
   "cell_type": "code",
   "execution_count": 18,
   "metadata": {},
   "outputs": [],
   "source": [
    "df_tweets_Fox1['Tweets'] = df_tweets_Fox1['Tweets'].apply(cleanText)"
   ]
  },
  {
   "cell_type": "code",
   "execution_count": 19,
   "metadata": {},
   "outputs": [],
   "source": [
    "df_tweets_CNN1['Tweets'] = df_tweets_CNN1['Tweets'].apply(cleanText)"
   ]
  },
  {
   "cell_type": "code",
   "execution_count": 20,
   "metadata": {},
   "outputs": [],
   "source": [
    "# df_tweets_Fox1.head(5)"
   ]
  },
  {
   "cell_type": "code",
   "execution_count": 21,
   "metadata": {},
   "outputs": [],
   "source": [
    "df_tweets_Fox_clean = df_tweets_Fox1.copy()"
   ]
  },
  {
   "cell_type": "code",
   "execution_count": 22,
   "metadata": {},
   "outputs": [],
   "source": [
    "df_tweets_CNN_clean = df_tweets_CNN1.copy()"
   ]
  },
  {
   "cell_type": "code",
   "execution_count": 23,
   "metadata": {},
   "outputs": [],
   "source": [
    "def getSubjectivity(text):\n",
    "    return TextBlob(text).sentiment.subjectivity\n",
    "\n",
    "def getPolarity(text):\n",
    "    return TextBlob(text).sentiment.polarity"
   ]
  },
  {
   "cell_type": "code",
   "execution_count": 24,
   "metadata": {},
   "outputs": [],
   "source": [
    "df_tweets_Fox_clean['Subjectivity'] = df_tweets_Fox_clean['Tweets'].apply(getSubjectivity)\n",
    "df_tweets_Fox_clean['Polarity'] = df_tweets_Fox_clean['Tweets'].apply(getPolarity)"
   ]
  },
  {
   "cell_type": "code",
   "execution_count": 25,
   "metadata": {},
   "outputs": [],
   "source": [
    "df_tweets_CNN_clean['Subjectivity'] = df_tweets_CNN_clean['Tweets'].apply(getSubjectivity)\n",
    "df_tweets_CNN_clean['Polarity'] = df_tweets_CNN_clean['Tweets'].apply(getPolarity)"
   ]
  },
  {
   "cell_type": "code",
   "execution_count": 26,
   "metadata": {},
   "outputs": [],
   "source": [
    "# df_tweets_Fox_clean.head(10)"
   ]
  },
  {
   "cell_type": "code",
   "execution_count": 27,
   "metadata": {},
   "outputs": [],
   "source": [
    "#Label Positive, negative, neutral based on polarity\n",
    "\n",
    "def getAnalysis(score):\n",
    "    if score < 0:\n",
    "        return 'Negative'\n",
    "    elif score == 0:\n",
    "        return 'Neutral'\n",
    "    else:\n",
    "        return 'Positive'"
   ]
  },
  {
   "cell_type": "code",
   "execution_count": 28,
   "metadata": {},
   "outputs": [],
   "source": [
    "df_tweets_Fox_clean['Analysis'] = df_tweets_Fox_clean['Polarity'].apply(getAnalysis)"
   ]
  },
  {
   "cell_type": "code",
   "execution_count": 29,
   "metadata": {},
   "outputs": [],
   "source": [
    "df_tweets_CNN_clean['Analysis'] = df_tweets_CNN_clean['Polarity'].apply(getAnalysis)"
   ]
  },
  {
   "cell_type": "code",
   "execution_count": 30,
   "metadata": {},
   "outputs": [
    {
     "data": {
      "text/html": [
       "<div>\n",
       "<style scoped>\n",
       "    .dataframe tbody tr th:only-of-type {\n",
       "        vertical-align: middle;\n",
       "    }\n",
       "\n",
       "    .dataframe tbody tr th {\n",
       "        vertical-align: top;\n",
       "    }\n",
       "\n",
       "    .dataframe thead th {\n",
       "        text-align: right;\n",
       "    }\n",
       "</style>\n",
       "<table border=\"1\" class=\"dataframe\">\n",
       "  <thead>\n",
       "    <tr style=\"text-align: right;\">\n",
       "      <th></th>\n",
       "      <th>Tweets</th>\n",
       "      <th>Subjectivity</th>\n",
       "      <th>Polarity</th>\n",
       "      <th>Analysis</th>\n",
       "    </tr>\n",
       "  </thead>\n",
       "  <tbody>\n",
       "    <tr>\n",
       "      <td>0</td>\n",
       "      <td>Interesting moments from Amy Coney Barrett s...</td>\n",
       "      <td>0.500000</td>\n",
       "      <td>0.500000</td>\n",
       "      <td>Positive</td>\n",
       "    </tr>\n",
       "    <tr>\n",
       "      <td>1</td>\n",
       "      <td>BIG TECH BACKLASHPublished    mins ago Twitter...</td>\n",
       "      <td>0.100000</td>\n",
       "      <td>-0.050000</td>\n",
       "      <td>Negative</td>\n",
       "    </tr>\n",
       "    <tr>\n",
       "      <td>2</td>\n",
       "      <td>Sen  John Kennedy  New Hunter Biden report as ...</td>\n",
       "      <td>0.560606</td>\n",
       "      <td>-0.098485</td>\n",
       "      <td>Negative</td>\n",
       "    </tr>\n",
       "    <tr>\n",
       "      <td>3</td>\n",
       "      <td>Trump administration secures release of two Am...</td>\n",
       "      <td>0.000000</td>\n",
       "      <td>0.000000</td>\n",
       "      <td>Neutral</td>\n",
       "    </tr>\n",
       "    <tr>\n",
       "      <td>4</td>\n",
       "      <td>Amy Coney Barrett tells Democratic senator   I...</td>\n",
       "      <td>1.000000</td>\n",
       "      <td>0.600000</td>\n",
       "      <td>Positive</td>\n",
       "    </tr>\n",
       "  </tbody>\n",
       "</table>\n",
       "</div>"
      ],
      "text/plain": [
       "                                              Tweets  Subjectivity  Polarity  \\\n",
       "0    Interesting moments from Amy Coney Barrett s...      0.500000  0.500000   \n",
       "1  BIG TECH BACKLASHPublished    mins ago Twitter...      0.100000 -0.050000   \n",
       "2  Sen  John Kennedy  New Hunter Biden report as ...      0.560606 -0.098485   \n",
       "3  Trump administration secures release of two Am...      0.000000  0.000000   \n",
       "4  Amy Coney Barrett tells Democratic senator   I...      1.000000  0.600000   \n",
       "\n",
       "   Analysis  \n",
       "0  Positive  \n",
       "1  Negative  \n",
       "2  Negative  \n",
       "3   Neutral  \n",
       "4  Positive  "
      ]
     },
     "execution_count": 30,
     "metadata": {},
     "output_type": "execute_result"
    }
   ],
   "source": [
    "df_tweets_Fox_clean.head()"
   ]
  },
  {
   "cell_type": "raw",
   "metadata": {},
   "source": [
    "#Positive tweets\n",
    "\n",
    "j = 1\n",
    "sorteddf = df_tweets_Fox_clean.sort_values(by = ['Polarity'])\n",
    "for i in range(0, sorteddf.shape[0]):\n",
    "    if(sorteddf['Analysis'][i] == 'Positive'):\n",
    "        print(str(j) + ') ' + sorteddf['Tweets'][i])\n",
    "        print()\n",
    "        j= j + 1"
   ]
  },
  {
   "cell_type": "raw",
   "metadata": {},
   "source": [
    "j = 1\n",
    "sorteddfCNN = df_tweets_CNN_clean.sort_values(by = ['Polarity'])\n",
    "for i in range(0, sorteddfCNN.shape[0]):\n",
    "    if(sorteddfCNN['Analysis'][i] == 'Positive'):\n",
    "        print(str(j) + ') ' + sorteddfCNN['Tweets'][i])\n",
    "        print()\n",
    "        j= j + 1"
   ]
  },
  {
   "cell_type": "raw",
   "metadata": {},
   "source": [
    "# Negative Tweets\n",
    "\n",
    "j = 1\n",
    "sorteddf = df_tweets_Fox_clean.sort_values(by = ['Polarity'], ascending = 'False')\n",
    "for i in range(0, sorteddf.shape[0]):\n",
    "    if(sorteddf['Analysis'][i] == 'Negative'):\n",
    "        print(str(j) + ') ' + sorteddf['Tweets'][i])\n",
    "        print()\n",
    "        j= j + 1"
   ]
  },
  {
   "cell_type": "raw",
   "metadata": {},
   "source": [
    "j = 1\n",
    "sorteddfCNN1 = df_tweets_CNN_clean.sort_values(by = ['Polarity'], ascending = 'False')\n",
    "for i in range(0, sorteddfCNN1.shape[0]):\n",
    "    if(sorteddfCNN1['Analysis'][i] == 'Negative'):\n",
    "        print(str(j) + ') ' + sorteddfCNN1['Tweets'][i])\n",
    "        print()\n",
    "        j= j + 1"
   ]
  },
  {
   "cell_type": "code",
   "execution_count": 35,
   "metadata": {},
   "outputs": [
    {
     "data": {
      "text/html": [
       "<div>\n",
       "<style scoped>\n",
       "    .dataframe tbody tr th:only-of-type {\n",
       "        vertical-align: middle;\n",
       "    }\n",
       "\n",
       "    .dataframe tbody tr th {\n",
       "        vertical-align: top;\n",
       "    }\n",
       "\n",
       "    .dataframe thead th {\n",
       "        text-align: right;\n",
       "    }\n",
       "</style>\n",
       "<table border=\"1\" class=\"dataframe\">\n",
       "  <thead>\n",
       "    <tr style=\"text-align: right;\">\n",
       "      <th></th>\n",
       "      <th>Tweets</th>\n",
       "      <th>Subjectivity</th>\n",
       "      <th>Polarity</th>\n",
       "      <th>Analysis</th>\n",
       "    </tr>\n",
       "  </thead>\n",
       "  <tbody>\n",
       "    <tr>\n",
       "      <td>0</td>\n",
       "      <td>Being weak     as my grandfather understood i...</td>\n",
       "      <td>0.585227</td>\n",
       "      <td>-0.073864</td>\n",
       "      <td>Negative</td>\n",
       "    </tr>\n",
       "    <tr>\n",
       "      <td>1</td>\n",
       "      <td>Only half of registered voters in the United S...</td>\n",
       "      <td>0.430303</td>\n",
       "      <td>-0.032576</td>\n",
       "      <td>Negative</td>\n",
       "    </tr>\n",
       "    <tr>\n",
       "      <td>2</td>\n",
       "      <td>asks  How can President Trump keep holding p...</td>\n",
       "      <td>0.775000</td>\n",
       "      <td>0.025000</td>\n",
       "      <td>Positive</td>\n",
       "    </tr>\n",
       "    <tr>\n",
       "      <td>3</td>\n",
       "      <td>With just    days to go until the election  ...</td>\n",
       "      <td>0.800000</td>\n",
       "      <td>0.400000</td>\n",
       "      <td>Positive</td>\n",
       "    </tr>\n",
       "    <tr>\n",
       "      <td>4</td>\n",
       "      <td>This is  all part of the reckless approach tha...</td>\n",
       "      <td>0.050000</td>\n",
       "      <td>-0.100000</td>\n",
       "      <td>Negative</td>\n",
       "    </tr>\n",
       "  </tbody>\n",
       "</table>\n",
       "</div>"
      ],
      "text/plain": [
       "                                              Tweets  Subjectivity  Polarity  \\\n",
       "0   Being weak     as my grandfather understood i...      0.585227 -0.073864   \n",
       "1  Only half of registered voters in the United S...      0.430303 -0.032576   \n",
       "2    asks  How can President Trump keep holding p...      0.775000  0.025000   \n",
       "3    With just    days to go until the election  ...      0.800000  0.400000   \n",
       "4  This is  all part of the reckless approach tha...      0.050000 -0.100000   \n",
       "\n",
       "   Analysis  \n",
       "0  Negative  \n",
       "1  Negative  \n",
       "2  Positive  \n",
       "3  Positive  \n",
       "4  Negative  "
      ]
     },
     "execution_count": 35,
     "metadata": {},
     "output_type": "execute_result"
    }
   ],
   "source": [
    "df_tweets_CNN_clean.head()"
   ]
  },
  {
   "cell_type": "code",
   "execution_count": 36,
   "metadata": {},
   "outputs": [],
   "source": [
    "df_CNN = df_tweets_CNN_clean[['Polarity', 'Subjectivity']]\n",
    "# df_CNN.head()"
   ]
  },
  {
   "cell_type": "code",
   "execution_count": 37,
   "metadata": {},
   "outputs": [],
   "source": [
    "df_Fox = df_tweets_Fox_clean[['Polarity', 'Subjectivity']]\n",
    "# df_Fox.head()"
   ]
  },
  {
   "cell_type": "code",
   "execution_count": 39,
   "metadata": {},
   "outputs": [
    {
     "data": {
      "image/png": "[encoded data removed]",
      "text/plain": [
       "<Figure size 1152x1008 with 4 Axes>"
      ]
     },
     "metadata": {
      "needs_background": "light"
     },
     "output_type": "display_data"
    }
   ],
   "source": [
    "fig = plt.figure(figsize = (16, 14)) # create figure\n",
    "\n",
    "ax0 = fig.add_subplot(2, 2, 1) \n",
    "ax1 = fig.add_subplot(2, 2, 2) \n",
    "ax2 = fig.add_subplot(2, 2, 3) \n",
    "ax3 = fig.add_subplot(2, 2, 4) \n",
    "\n",
    "df_CNN.plot(kind='scatter', x='Polarity', y='Subjectivity', color = 'blue', ax=ax0)\n",
    "ax0.set_title('Sentiment Analysis -  CNN 250 tweets', fontsize = 16)\n",
    "ax0.set_xlabel('Polarity', fontsize = 14)\n",
    "ax0.set_ylabel('Subjectivity', fontsize = 14)\n",
    "\n",
    "df_Fox.plot(kind='scatter', x='Polarity', y='Subjectivity', color = 'green', ax=ax1)\n",
    "ax1.set_title('Sentiment Analysis -  FoxNews 250 tweets', fontsize = 16 )\n",
    "ax1.set_xlabel('Polarity', fontsize = 14)\n",
    "ax1.set_ylabel('Subjectivity', fontsize = 14)\n",
    "\n",
    "df_tweets_CNN_clean['Analysis'].value_counts().plot(kind = 'barh', color = 'blue', ax = ax2)\n",
    "df_tweets_Fox_clean['Analysis'].value_counts().plot(kind = 'barh', color = 'green', ax = ax3)\n",
    "\n",
    "# ax2.set_title('Sentiment Analysis -  CNN 250 tweets', fontsize = 16)\n",
    "ax2.set_xlabel('Count of tweets', fontsize = 14)\n",
    "ax2.set_ylabel('Tweet Sentiment', fontsize = 14)\n",
    "\n",
    "# ax3.set_title('Sentiment Analysis -  Fox 250 tweets', fontsize = 16)\n",
    "ax3.set_xlabel('Count of tweets', fontsize = 14)\n",
    "ax3.set_ylabel('Tweet Sentiment', fontsize = 14)\n",
    "\n",
    "plt.show()"
   ]
  },
  {
   "cell_type": "code",
   "execution_count": 40,
   "metadata": {},
   "outputs": [
    {
     "data": {
      "text/plain": [
       "<Figure size 432x288 with 0 Axes>"
      ]
     },
     "metadata": {},
     "output_type": "display_data"
    }
   ],
   "source": [
    "plt.savefig('Sentiment1.png')"
   ]
  },
  {
   "cell_type": "code",
   "execution_count": 41,
   "metadata": {},
   "outputs": [],
   "source": [
    "fig.savefig('Sentiment2.png')"
   ]
  },
  {
   "cell_type": "code",
   "execution_count": null,
   "metadata": {},
   "outputs": [],
   "source": [
    "# % positive tweets\n",
    "posTweets = df_tweets_CNN_clean[df_tweets_CNN_clean.Analysis == 'Positive']\n",
    "posTweets = posTweets['Tweets']\n",
    "\n",
    "round((posTweets.shape[0]/df_tweets_CNN_clean.shape[0])*100, 1)"
   ]
  },
  {
   "cell_type": "code",
   "execution_count": null,
   "metadata": {},
   "outputs": [],
   "source": [
    "negTweets = df_tweets_CNN_clean[df_tweets_CNN_clean.Analysis == 'Negative']\n",
    "negTweets = negTweets['Tweets']\n",
    "\n",
    "round((negTweets.shape[0]/df_tweets_CNN_clean.shape[0])*100, 1)"
   ]
  },
  {
   "cell_type": "code",
   "execution_count": null,
   "metadata": {},
   "outputs": [],
   "source": [
    "# % positive tweets\n",
    "posTweets = df_tweets_Fox_clean[df_tweets_Fox_clean.Analysis == 'Positive']\n",
    "posTweets = posTweets['Tweets']\n",
    "\n",
    "round((posTweets.shape[0]/df_tweets_Fox_clean.shape[0])*100, 1)"
   ]
  },
  {
   "cell_type": "code",
   "execution_count": null,
   "metadata": {},
   "outputs": [],
   "source": [
    "negTweets = df_tweets_Fox_clean[df_tweets_Fox_clean.Analysis == 'Negative']\n",
    "negTweets = negTweets['Tweets']\n",
    "\n",
    "round((negTweets.shape[0]/df_tweets_Fox_clean.shape[0])*100, 1)"
   ]
  }
 ],
 "metadata": {
  "kernelspec": {
   "display_name": "Python 3",
   "language": "python",
   "name": "python3"
  },
  "language_info": {
   "codemirror_mode": {
    "name": "ipython",
    "version": 3
   },
   "file_extension": ".py",
   "mimetype": "text/x-python",
   "name": "python",
   "nbconvert_exporter": "python",
   "pygments_lexer": "ipython3",
   "version": "3.7.4"
  }
 },
 "nbformat": 4,
 "nbformat_minor": 2
}
